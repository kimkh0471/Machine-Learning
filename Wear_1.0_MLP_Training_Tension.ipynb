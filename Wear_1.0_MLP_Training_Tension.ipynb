{
 "cells": [
  {
   "cell_type": "code",
   "execution_count": 1,
   "id": "516a5fb3",
   "metadata": {},
   "outputs": [],
   "source": [
    "import os, sklearn, math\n",
    "import pandas as pd\n",
    "import tensorflow as tf\n",
    "from tensorflow.keras import layers\n",
    "import matplotlib.pyplot as plt\n",
    "from joblib import dump, load\n",
    "\n",
    "tf.random.set_seed(42)\n",
    "\n",
    "data = '230703_data_c01'\n",
    "dataname = data+'TesionMLP_time_comb'\n",
    "filename = 'myLearningData/'+data+'.csv'\n",
    "SD = pd.read_csv(filename)\n",
    "SD=SD.iloc[:,:5]\n",
    "SensorData = SD"
   ]
  },
  {
   "cell_type": "code",
   "execution_count": 2,
   "id": "c9b2e025",
   "metadata": {},
   "outputs": [
    {
     "data": {
      "text/html": [
       "<div>\n",
       "<style scoped>\n",
       "    .dataframe tbody tr th:only-of-type {\n",
       "        vertical-align: middle;\n",
       "    }\n",
       "\n",
       "    .dataframe tbody tr th {\n",
       "        vertical-align: top;\n",
       "    }\n",
       "\n",
       "    .dataframe thead th {\n",
       "        text-align: right;\n",
       "    }\n",
       "</style>\n",
       "<table border=\"1\" class=\"dataframe\">\n",
       "  <thead>\n",
       "    <tr style=\"text-align: right;\">\n",
       "      <th></th>\n",
       "      <th>Pre</th>\n",
       "      <th>Displacement</th>\n",
       "      <th>Tension</th>\n",
       "      <th>Resistance</th>\n",
       "      <th>Stutus</th>\n",
       "    </tr>\n",
       "  </thead>\n",
       "  <tbody>\n",
       "    <tr>\n",
       "      <th>0</th>\n",
       "      <td>0.00</td>\n",
       "      <td>0.00</td>\n",
       "      <td>1.1</td>\n",
       "      <td>NaN</td>\n",
       "      <td>NaN</td>\n",
       "    </tr>\n",
       "    <tr>\n",
       "      <th>1</th>\n",
       "      <td>0.00</td>\n",
       "      <td>0.00</td>\n",
       "      <td>1.2</td>\n",
       "      <td>NaN</td>\n",
       "      <td>NaN</td>\n",
       "    </tr>\n",
       "    <tr>\n",
       "      <th>2</th>\n",
       "      <td>0.00</td>\n",
       "      <td>0.00</td>\n",
       "      <td>1.1</td>\n",
       "      <td>NaN</td>\n",
       "      <td>NaN</td>\n",
       "    </tr>\n",
       "    <tr>\n",
       "      <th>3</th>\n",
       "      <td>0.00</td>\n",
       "      <td>0.02</td>\n",
       "      <td>1.4</td>\n",
       "      <td>NaN</td>\n",
       "      <td>NaN</td>\n",
       "    </tr>\n",
       "    <tr>\n",
       "      <th>4</th>\n",
       "      <td>0.02</td>\n",
       "      <td>0.03</td>\n",
       "      <td>1.9</td>\n",
       "      <td>NaN</td>\n",
       "      <td>NaN</td>\n",
       "    </tr>\n",
       "    <tr>\n",
       "      <th>...</th>\n",
       "      <td>...</td>\n",
       "      <td>...</td>\n",
       "      <td>...</td>\n",
       "      <td>...</td>\n",
       "      <td>...</td>\n",
       "    </tr>\n",
       "    <tr>\n",
       "      <th>7764</th>\n",
       "      <td>0.00</td>\n",
       "      <td>0.00</td>\n",
       "      <td>1.7</td>\n",
       "      <td>71.95</td>\n",
       "      <td>0.0</td>\n",
       "    </tr>\n",
       "    <tr>\n",
       "      <th>7765</th>\n",
       "      <td>0.00</td>\n",
       "      <td>0.00</td>\n",
       "      <td>1.5</td>\n",
       "      <td>71.97</td>\n",
       "      <td>0.0</td>\n",
       "    </tr>\n",
       "    <tr>\n",
       "      <th>7766</th>\n",
       "      <td>0.00</td>\n",
       "      <td>0.00</td>\n",
       "      <td>1.5</td>\n",
       "      <td>71.98</td>\n",
       "      <td>0.0</td>\n",
       "    </tr>\n",
       "    <tr>\n",
       "      <th>7767</th>\n",
       "      <td>0.00</td>\n",
       "      <td>0.00</td>\n",
       "      <td>1.5</td>\n",
       "      <td>71.99</td>\n",
       "      <td>0.0</td>\n",
       "    </tr>\n",
       "    <tr>\n",
       "      <th>7768</th>\n",
       "      <td>0.00</td>\n",
       "      <td>0.00</td>\n",
       "      <td>1.8</td>\n",
       "      <td>72.00</td>\n",
       "      <td>0.0</td>\n",
       "    </tr>\n",
       "  </tbody>\n",
       "</table>\n",
       "<p>7769 rows × 5 columns</p>\n",
       "</div>"
      ],
      "text/plain": [
       "       Pre  Displacement  Tension  Resistance  Stutus\n",
       "0     0.00          0.00      1.1         NaN     NaN\n",
       "1     0.00          0.00      1.2         NaN     NaN\n",
       "2     0.00          0.00      1.1         NaN     NaN\n",
       "3     0.00          0.02      1.4         NaN     NaN\n",
       "4     0.02          0.03      1.9         NaN     NaN\n",
       "...    ...           ...      ...         ...     ...\n",
       "7764  0.00          0.00      1.7       71.95     0.0\n",
       "7765  0.00          0.00      1.5       71.97     0.0\n",
       "7766  0.00          0.00      1.5       71.98     0.0\n",
       "7767  0.00          0.00      1.5       71.99     0.0\n",
       "7768  0.00          0.00      1.8       72.00     0.0\n",
       "\n",
       "[7769 rows x 5 columns]"
      ]
     },
     "execution_count": 2,
     "metadata": {},
     "output_type": "execute_result"
    }
   ],
   "source": [
    "SD"
   ]
  },
  {
   "cell_type": "code",
   "execution_count": 3,
   "id": "7227f645",
   "metadata": {},
   "outputs": [
    {
     "data": {
      "text/html": [
       "<div>\n",
       "<style scoped>\n",
       "    .dataframe tbody tr th:only-of-type {\n",
       "        vertical-align: middle;\n",
       "    }\n",
       "\n",
       "    .dataframe tbody tr th {\n",
       "        vertical-align: top;\n",
       "    }\n",
       "\n",
       "    .dataframe thead th {\n",
       "        text-align: right;\n",
       "    }\n",
       "</style>\n",
       "<table border=\"1\" class=\"dataframe\">\n",
       "  <thead>\n",
       "    <tr style=\"text-align: right;\">\n",
       "      <th></th>\n",
       "      <th>Pre</th>\n",
       "      <th>Displacement</th>\n",
       "      <th>Tension</th>\n",
       "      <th>Resistance</th>\n",
       "      <th>Stutus</th>\n",
       "    </tr>\n",
       "  </thead>\n",
       "  <tbody>\n",
       "    <tr>\n",
       "      <th>count</th>\n",
       "      <td>7769.000000</td>\n",
       "      <td>7769.000000</td>\n",
       "      <td>7769.000000</td>\n",
       "      <td>6474.000000</td>\n",
       "      <td>3884.000000</td>\n",
       "    </tr>\n",
       "    <tr>\n",
       "      <th>mean</th>\n",
       "      <td>4.669009</td>\n",
       "      <td>4.669009</td>\n",
       "      <td>22.463792</td>\n",
       "      <td>41.612291</td>\n",
       "      <td>6.010427</td>\n",
       "    </tr>\n",
       "    <tr>\n",
       "      <th>std</th>\n",
       "      <td>3.304695</td>\n",
       "      <td>3.304695</td>\n",
       "      <td>13.163732</td>\n",
       "      <td>14.519180</td>\n",
       "      <td>3.605598</td>\n",
       "    </tr>\n",
       "    <tr>\n",
       "      <th>min</th>\n",
       "      <td>-0.010000</td>\n",
       "      <td>-0.010000</td>\n",
       "      <td>0.000000</td>\n",
       "      <td>16.030000</td>\n",
       "      <td>0.000000</td>\n",
       "    </tr>\n",
       "    <tr>\n",
       "      <th>25%</th>\n",
       "      <td>1.910000</td>\n",
       "      <td>1.910000</td>\n",
       "      <td>12.000000</td>\n",
       "      <td>30.012500</td>\n",
       "      <td>2.870000</td>\n",
       "    </tr>\n",
       "    <tr>\n",
       "      <th>50%</th>\n",
       "      <td>3.970000</td>\n",
       "      <td>3.970000</td>\n",
       "      <td>21.300000</td>\n",
       "      <td>40.015000</td>\n",
       "      <td>6.030000</td>\n",
       "    </tr>\n",
       "    <tr>\n",
       "      <th>75%</th>\n",
       "      <td>7.100000</td>\n",
       "      <td>7.100000</td>\n",
       "      <td>32.100000</td>\n",
       "      <td>52.007500</td>\n",
       "      <td>9.140000</td>\n",
       "    </tr>\n",
       "    <tr>\n",
       "      <th>max</th>\n",
       "      <td>12.010000</td>\n",
       "      <td>12.010000</td>\n",
       "      <td>53.400000</td>\n",
       "      <td>72.000000</td>\n",
       "      <td>12.010000</td>\n",
       "    </tr>\n",
       "  </tbody>\n",
       "</table>\n",
       "</div>"
      ],
      "text/plain": [
       "               Pre  Displacement      Tension   Resistance       Stutus\n",
       "count  7769.000000   7769.000000  7769.000000  6474.000000  3884.000000\n",
       "mean      4.669009      4.669009    22.463792    41.612291     6.010427\n",
       "std       3.304695      3.304695    13.163732    14.519180     3.605598\n",
       "min      -0.010000     -0.010000     0.000000    16.030000     0.000000\n",
       "25%       1.910000      1.910000    12.000000    30.012500     2.870000\n",
       "50%       3.970000      3.970000    21.300000    40.015000     6.030000\n",
       "75%       7.100000      7.100000    32.100000    52.007500     9.140000\n",
       "max      12.010000     12.010000    53.400000    72.000000    12.010000"
      ]
     },
     "execution_count": 3,
     "metadata": {},
     "output_type": "execute_result"
    }
   ],
   "source": [
    "SD.describe()"
   ]
  },
  {
   "cell_type": "code",
   "execution_count": 4,
   "id": "63e84120",
   "metadata": {
    "scrolled": true
   },
   "outputs": [
    {
     "data": {
      "text/plain": [
       "<Axes: >"
      ]
     },
     "execution_count": 4,
     "metadata": {},
     "output_type": "execute_result"
    },
    {
     "data": {
      "image/png": "[encoded data removed]",
      "text/plain": [
       "<Figure size 640x480 with 1 Axes>"
      ]
     },
     "metadata": {},
     "output_type": "display_data"
    }
   ],
   "source": [
    "SDz=(SD.loc[:,'Displacement'])\n",
    "SDz.plot()"
   ]
  },
  {
   "cell_type": "code",
   "execution_count": 5,
   "id": "9301939d",
   "metadata": {},
   "outputs": [
    {
     "data": {
      "text/plain": [
       "0       0.00\n",
       "1       0.00\n",
       "2       0.00\n",
       "3       0.02\n",
       "4       0.03\n",
       "        ... \n",
       "7764    0.00\n",
       "7765    0.00\n",
       "7766    0.00\n",
       "7767    0.00\n",
       "7768    0.00\n",
       "Name: Displacement, Length: 7769, dtype: float64"
      ]
     },
     "execution_count": 5,
     "metadata": {},
     "output_type": "execute_result"
    }
   ],
   "source": [
    "SDy = SD.iloc[:,1]\n",
    "SDy"
   ]
  },
  {
   "cell_type": "code",
   "execution_count": 6,
   "id": "09cac4ae",
   "metadata": {
    "scrolled": true
   },
   "outputs": [],
   "source": [
    "X = SD.iloc[:,[0,1]]\n",
    "y = SD.iloc[:,[2]]"
   ]
  },
  {
   "cell_type": "code",
   "execution_count": 7,
   "id": "fcb1cdf5",
   "metadata": {},
   "outputs": [
    {
     "data": {
      "text/html": [
       "<div>\n",
       "<style scoped>\n",
       "    .dataframe tbody tr th:only-of-type {\n",
       "        vertical-align: middle;\n",
       "    }\n",
       "\n",
       "    .dataframe tbody tr th {\n",
       "        vertical-align: top;\n",
       "    }\n",
       "\n",
       "    .dataframe thead th {\n",
       "        text-align: right;\n",
       "    }\n",
       "</style>\n",
       "<table border=\"1\" class=\"dataframe\">\n",
       "  <thead>\n",
       "    <tr style=\"text-align: right;\">\n",
       "      <th></th>\n",
       "      <th>Pre</th>\n",
       "      <th>Displacement</th>\n",
       "    </tr>\n",
       "  </thead>\n",
       "  <tbody>\n",
       "    <tr>\n",
       "      <th>0</th>\n",
       "      <td>0.00</td>\n",
       "      <td>0.00</td>\n",
       "    </tr>\n",
       "    <tr>\n",
       "      <th>1</th>\n",
       "      <td>0.00</td>\n",
       "      <td>0.00</td>\n",
       "    </tr>\n",
       "    <tr>\n",
       "      <th>2</th>\n",
       "      <td>0.00</td>\n",
       "      <td>0.00</td>\n",
       "    </tr>\n",
       "    <tr>\n",
       "      <th>3</th>\n",
       "      <td>0.00</td>\n",
       "      <td>0.02</td>\n",
       "    </tr>\n",
       "    <tr>\n",
       "      <th>4</th>\n",
       "      <td>0.02</td>\n",
       "      <td>0.03</td>\n",
       "    </tr>\n",
       "    <tr>\n",
       "      <th>...</th>\n",
       "      <td>...</td>\n",
       "      <td>...</td>\n",
       "    </tr>\n",
       "    <tr>\n",
       "      <th>7764</th>\n",
       "      <td>0.00</td>\n",
       "      <td>0.00</td>\n",
       "    </tr>\n",
       "    <tr>\n",
       "      <th>7765</th>\n",
       "      <td>0.00</td>\n",
       "      <td>0.00</td>\n",
       "    </tr>\n",
       "    <tr>\n",
       "      <th>7766</th>\n",
       "      <td>0.00</td>\n",
       "      <td>0.00</td>\n",
       "    </tr>\n",
       "    <tr>\n",
       "      <th>7767</th>\n",
       "      <td>0.00</td>\n",
       "      <td>0.00</td>\n",
       "    </tr>\n",
       "    <tr>\n",
       "      <th>7768</th>\n",
       "      <td>0.00</td>\n",
       "      <td>0.00</td>\n",
       "    </tr>\n",
       "  </tbody>\n",
       "</table>\n",
       "<p>7769 rows × 2 columns</p>\n",
       "</div>"
      ],
      "text/plain": [
       "       Pre  Displacement\n",
       "0     0.00          0.00\n",
       "1     0.00          0.00\n",
       "2     0.00          0.00\n",
       "3     0.00          0.02\n",
       "4     0.02          0.03\n",
       "...    ...           ...\n",
       "7764  0.00          0.00\n",
       "7765  0.00          0.00\n",
       "7766  0.00          0.00\n",
       "7767  0.00          0.00\n",
       "7768  0.00          0.00\n",
       "\n",
       "[7769 rows x 2 columns]"
      ]
     },
     "execution_count": 7,
     "metadata": {},
     "output_type": "execute_result"
    }
   ],
   "source": [
    "X"
   ]
  },
  {
   "cell_type": "code",
   "execution_count": 8,
   "id": "25dce433",
   "metadata": {},
   "outputs": [
    {
     "data": {
      "text/html": [
       "<div>\n",
       "<style scoped>\n",
       "    .dataframe tbody tr th:only-of-type {\n",
       "        vertical-align: middle;\n",
       "    }\n",
       "\n",
       "    .dataframe tbody tr th {\n",
       "        vertical-align: top;\n",
       "    }\n",
       "\n",
       "    .dataframe thead th {\n",
       "        text-align: right;\n",
       "    }\n",
       "</style>\n",
       "<table border=\"1\" class=\"dataframe\">\n",
       "  <thead>\n",
       "    <tr style=\"text-align: right;\">\n",
       "      <th></th>\n",
       "      <th>Tension</th>\n",
       "    </tr>\n",
       "  </thead>\n",
       "  <tbody>\n",
       "    <tr>\n",
       "      <th>828</th>\n",
       "      <td>17.5</td>\n",
       "    </tr>\n",
       "    <tr>\n",
       "      <th>1477</th>\n",
       "      <td>17.8</td>\n",
       "    </tr>\n",
       "    <tr>\n",
       "      <th>7714</th>\n",
       "      <td>1.5</td>\n",
       "    </tr>\n",
       "    <tr>\n",
       "      <th>3104</th>\n",
       "      <td>33.8</td>\n",
       "    </tr>\n",
       "    <tr>\n",
       "      <th>6390</th>\n",
       "      <td>35.0</td>\n",
       "    </tr>\n",
       "  </tbody>\n",
       "</table>\n",
       "</div>"
      ],
      "text/plain": [
       "      Tension\n",
       "828      17.5\n",
       "1477     17.8\n",
       "7714      1.5\n",
       "3104     33.8\n",
       "6390     35.0"
      ]
     },
     "execution_count": 8,
     "metadata": {},
     "output_type": "execute_result"
    }
   ],
   "source": [
    "y.sample(5)"
   ]
  },
  {
   "cell_type": "code",
   "execution_count": 9,
   "id": "019f4ef6",
   "metadata": {},
   "outputs": [],
   "source": [
    "from sklearn.model_selection import train_test_split\n",
    "from sklearn.preprocessing import StandardScaler\n",
    "\n",
    "X_train_full, X_test, y_train_full, y_test = train_test_split(X, y, test_size = 0.01, random_state=42)\n",
    "X_train, X_valid, y_train, y_valid = train_test_split(X_train_full, y_train_full, test_size = 0.20, random_state=42)"
   ]
  },
  {
   "cell_type": "code",
   "execution_count": 10,
   "id": "d6c9bf9b",
   "metadata": {},
   "outputs": [
    {
     "name": "stdout",
     "output_type": "stream",
     "text": [
      "X_train:  6152 ea 79 %    X_valid:  1539 ea 19 %    X_test:  78 ea 1 %\n"
     ]
    }
   ],
   "source": [
    "X_sum = len(X_train)+len(X_valid)+len(X_test)\n",
    "X_train_per = int(len(X_train)/X_sum*100)\n",
    "X_valid_per = int(len(X_valid)/X_sum*100)\n",
    "X_test_per = int(len(X_test)/X_sum*100)\n",
    "\n",
    "print('X_train: ',len(X_train),'ea',X_train_per,'%   ', \n",
    "      'X_valid: ',len(X_valid),'ea',X_valid_per,'%   ',\n",
    "      'X_test: ',len(X_test),'ea',X_test_per,'%',)"
   ]
  },
  {
   "cell_type": "code",
   "execution_count": 11,
   "id": "f18f36a6",
   "metadata": {},
   "outputs": [],
   "source": [
    "scaler = StandardScaler()\n",
    "X_train = scaler.fit_transform(X_train)\n",
    "X_valid = scaler.transform(X_valid)\n",
    "X_test = scaler.transform(X_test)"
   ]
  },
  {
   "cell_type": "code",
   "execution_count": 12,
   "id": "d7bc9f57",
   "metadata": {},
   "outputs": [
    {
     "data": {
      "text/plain": [
       "['myScaler/230703_data_c01TesionMLP_time_comb_SS.pkl']"
      ]
     },
     "execution_count": 12,
     "metadata": {},
     "output_type": "execute_result"
    }
   ],
   "source": [
    "import pickle\n",
    "from joblib import dump, load\n",
    "\n",
    "file_name = 'myScaler/'+dataname+'_SS.pkl'\n",
    "dump(scaler, file_name)"
   ]
  },
  {
   "cell_type": "code",
   "execution_count": 13,
   "id": "4f8d8d8c",
   "metadata": {},
   "outputs": [],
   "source": [
    "from tensorflow import keras\n",
    "model = keras.models.Sequential([    \n",
    "    keras.layers.Dense(16, activation=\"relu\", input_shape=X_train.shape[1:],kernel_initializer = \"he_normal\"),   \n",
    "    keras.layers.Dense(16, activation=\"relu\", input_shape=X_train.shape[1:],kernel_initializer = \"he_normal\"),        \n",
    "    keras.layers.Dense(16, activation=\"relu\", input_shape=X_train.shape[1:],kernel_initializer = \"he_normal\"),        \n",
    "    keras.layers.Dense(1)\n",
    "    \n",
    "])\n",
    "\n",
    "#model.compile(loss=\"mean_squared_error\", optimizer=keras.optimizers.SGD(learning_rate=1e-3, momentum = 0.9,nesterov = True))\n",
    "model.compile(loss=\"mean_squared_error\", optimizer=keras.optimizers.RMSprop(learning_rate=1e-3, rho = 0.9))"
   ]
  },
  {
   "cell_type": "code",
   "execution_count": 14,
   "id": "d2204d0d",
   "metadata": {
    "scrolled": false
   },
   "outputs": [
    {
     "name": "stdout",
     "output_type": "stream",
     "text": [
      "Model: \"sequential\"\n",
      "_________________________________________________________________\n",
      " Layer (type)                Output Shape              Param #   \n",
      "=================================================================\n",
      " dense (Dense)               (None, 16)                48        \n",
      "                                                                 \n",
      " dense_1 (Dense)             (None, 16)                272       \n",
      "                                                                 \n",
      " dense_2 (Dense)             (None, 16)                272       \n",
      "                                                                 \n",
      " dense_3 (Dense)             (None, 1)                 17        \n",
      "                                                                 \n",
      "=================================================================\n",
      "Total params: 609\n",
      "Trainable params: 609\n",
      "Non-trainable params: 0\n",
      "_________________________________________________________________\n"
     ]
    }
   ],
   "source": [
    "model.summary()"
   ]
  },
  {
   "cell_type": "markdown",
   "id": "0ca59749",
   "metadata": {},
   "source": [
    "## Callback (best, early stopping, tensorboard)"
   ]
  },
  {
   "cell_type": "code",
   "execution_count": 15,
   "id": "f4e30df0",
   "metadata": {},
   "outputs": [],
   "source": [
    "import os \n",
    "#root_logdir = os.path.join(os.curdir, 'mylog/'+data)\n",
    "root_logdir = os.path.join(os.curdir, 'mylog/'+'230630')\n",
    "\n",
    "def get_run_logdir():\n",
    "    import time\n",
    "    run_id= time.strftime(\"%m%d_%Hh%Mm%Ss\"+dataname)\n",
    "    return os.path.join(root_logdir, run_id)\n",
    "\n",
    "run_logdir = get_run_logdir()"
   ]
  },
  {
   "cell_type": "code",
   "execution_count": 16,
   "id": "3df612ec",
   "metadata": {},
   "outputs": [],
   "source": [
    "K = keras.backend\n",
    "class OneCycleScheduler(keras.callbacks.Callback):\n",
    "    def __init__(self, iterations, max_rate, start_rate=None,\n",
    "                 last_iterations=None, last_rate=None):\n",
    "        self.iterations = iterations\n",
    "        self.max_rate = max_rate\n",
    "        self.start_rate = start_rate or max_rate / 10\n",
    "        self.last_iterations = last_iterations or iterations // 10 + 1\n",
    "        self.half_iteration = (iterations - self.last_iterations) // 2\n",
    "        self.last_rate = last_rate or self.start_rate / 1000\n",
    "        self.iteration = 0\n",
    "    def _interpolate(self, iter1, iter2, rate1, rate2):\n",
    "        return ((rate2 - rate1) * (self.iteration - iter1)\n",
    "                / (iter2 - iter1) + rate1)\n",
    "    def on_batch_begin(self, batch, logs):\n",
    "        if self.iteration < self.half_iteration:\n",
    "            rate = self._interpolate(0, self.half_iteration, self.start_rate, self.max_rate)\n",
    "        elif self.iteration < 2 * self.half_iteration:\n",
    "            rate = self._interpolate(self.half_iteration, 2 * self.half_iteration,\n",
    "                                     self.max_rate, self.start_rate)\n",
    "        else:\n",
    "            rate = self._interpolate(2 * self.half_iteration, self.iterations,\n",
    "                                     self.start_rate, self.last_rate)\n",
    "        self.iteration += 1\n",
    "        K.set_value(self.model.optimizer.learning_rate, rate)"
   ]
  },
  {
   "cell_type": "code",
   "execution_count": 17,
   "id": "591586f2",
   "metadata": {},
   "outputs": [
    {
     "data": {
      "text/plain": [
       "'230703_data_c01TesionMLP_time_comb'"
      ]
     },
     "execution_count": 17,
     "metadata": {},
     "output_type": "execute_result"
    }
   ],
   "source": [
    "dataname"
   ]
  },
  {
   "cell_type": "code",
   "execution_count": 18,
   "id": "23dbe95b",
   "metadata": {
    "scrolled": true
   },
   "outputs": [
    {
     "name": "stdout",
     "output_type": "stream",
     "text": [
      "Epoch 1/300\n",
      "  1/193 [..............................] - ETA: 3:11 - loss: 521.2109WARNING:tensorflow:Callback method `on_train_batch_end` is slow compared to the batch time (batch time: 0.0012s vs `on_train_batch_end` time: 0.0088s). Check your callbacks.\n",
      "193/193 [==============================] - 2s 4ms/step - loss: 84.0151 - val_loss: 13.5134\n",
      "Epoch 2/300\n",
      "193/193 [==============================] - 1s 5ms/step - loss: 14.9137 - val_loss: 14.2644\n",
      "Epoch 3/300\n",
      "193/193 [==============================] - 1s 4ms/step - loss: 14.4739 - val_loss: 15.1242\n",
      "Epoch 4/300\n",
      "193/193 [==============================] - 1s 4ms/step - loss: 14.4290 - val_loss: 18.3258\n",
      "Epoch 5/300\n",
      "193/193 [==============================] - 1s 3ms/step - loss: 14.2005 - val_loss: 14.9338\n",
      "Epoch 6/300\n",
      "193/193 [==============================] - 1s 3ms/step - loss: 14.3067 - val_loss: 18.9466\n",
      "Epoch 7/300\n",
      "193/193 [==============================] - 1s 3ms/step - loss: 14.0859 - val_loss: 13.3294\n",
      "Epoch 8/300\n",
      "193/193 [==============================] - 1s 4ms/step - loss: 14.0704 - val_loss: 15.2427\n",
      "Epoch 9/300\n",
      "193/193 [==============================] - 1s 3ms/step - loss: 14.0226 - val_loss: 17.1246\n",
      "Epoch 10/300\n",
      "193/193 [==============================] - 1s 3ms/step - loss: 13.8754 - val_loss: 15.9289\n",
      "Epoch 11/300\n",
      "193/193 [==============================] - 1s 3ms/step - loss: 13.8891 - val_loss: 15.1982\n",
      "Epoch 12/300\n",
      "193/193 [==============================] - 1s 3ms/step - loss: 13.7565 - val_loss: 19.3248\n",
      "Epoch 13/300\n",
      "193/193 [==============================] - 1s 3ms/step - loss: 13.7196 - val_loss: 14.5198\n",
      "Epoch 14/300\n",
      "193/193 [==============================] - 1s 3ms/step - loss: 13.6320 - val_loss: 15.7140\n",
      "Epoch 15/300\n",
      "193/193 [==============================] - 1s 3ms/step - loss: 13.6193 - val_loss: 12.8461\n",
      "Epoch 16/300\n",
      "193/193 [==============================] - 1s 3ms/step - loss: 13.5536 - val_loss: 15.6067\n",
      "Epoch 17/300\n",
      "193/193 [==============================] - 1s 4ms/step - loss: 13.5297 - val_loss: 12.9443\n",
      "Epoch 18/300\n",
      "193/193 [==============================] - 1s 3ms/step - loss: 13.3766 - val_loss: 13.7979\n",
      "Epoch 19/300\n",
      "193/193 [==============================] - 1s 3ms/step - loss: 13.3198 - val_loss: 11.8443\n",
      "Epoch 20/300\n",
      "193/193 [==============================] - 0s 2ms/step - loss: 13.2356 - val_loss: 14.2112\n",
      "Epoch 21/300\n",
      "193/193 [==============================] - 1s 3ms/step - loss: 13.1649 - val_loss: 11.7663\n",
      "Epoch 22/300\n",
      "193/193 [==============================] - 1s 3ms/step - loss: 13.0660 - val_loss: 18.1122\n",
      "Epoch 23/300\n",
      "193/193 [==============================] - 1s 3ms/step - loss: 12.9708 - val_loss: 13.3809\n",
      "Epoch 24/300\n",
      "193/193 [==============================] - 1s 3ms/step - loss: 12.8651 - val_loss: 13.3525\n",
      "Epoch 25/300\n",
      "193/193 [==============================] - 1s 3ms/step - loss: 12.7166 - val_loss: 17.3546\n",
      "Epoch 26/300\n",
      "193/193 [==============================] - 1s 3ms/step - loss: 12.5738 - val_loss: 12.4611\n",
      "Epoch 27/300\n",
      "193/193 [==============================] - 1s 3ms/step - loss: 12.7451 - val_loss: 16.4139\n",
      "Epoch 28/300\n",
      "193/193 [==============================] - 1s 4ms/step - loss: 12.6041 - val_loss: 16.5848\n",
      "Epoch 29/300\n",
      "193/193 [==============================] - 1s 3ms/step - loss: 12.3629 - val_loss: 11.7738\n",
      "Epoch 30/300\n",
      "193/193 [==============================] - 1s 3ms/step - loss: 12.3480 - val_loss: 10.7178\n",
      "Epoch 31/300\n",
      "193/193 [==============================] - 1s 3ms/step - loss: 11.9664 - val_loss: 17.0281\n",
      "Epoch 32/300\n",
      "193/193 [==============================] - 1s 4ms/step - loss: 11.9930 - val_loss: 14.0581\n",
      "Epoch 33/300\n",
      "193/193 [==============================] - 1s 3ms/step - loss: 11.7109 - val_loss: 15.0241\n",
      "Epoch 34/300\n",
      "193/193 [==============================] - 1s 4ms/step - loss: 11.5723 - val_loss: 15.8530\n",
      "Epoch 35/300\n",
      "193/193 [==============================] - 1s 5ms/step - loss: 11.4182 - val_loss: 13.6426\n",
      "Epoch 36/300\n",
      "193/193 [==============================] - 1s 4ms/step - loss: 11.2946 - val_loss: 14.8594\n",
      "Epoch 37/300\n",
      "193/193 [==============================] - 1s 4ms/step - loss: 10.9231 - val_loss: 13.2949\n",
      "Epoch 38/300\n",
      "193/193 [==============================] - 1s 4ms/step - loss: 10.9072 - val_loss: 15.8109\n",
      "Epoch 39/300\n",
      "193/193 [==============================] - 1s 4ms/step - loss: 10.8663 - val_loss: 10.4135\n",
      "Epoch 40/300\n",
      "193/193 [==============================] - 1s 4ms/step - loss: 10.8442 - val_loss: 14.3064\n",
      "Epoch 41/300\n",
      "193/193 [==============================] - 1s 3ms/step - loss: 10.5680 - val_loss: 14.2630\n",
      "Epoch 42/300\n",
      "193/193 [==============================] - 1s 3ms/step - loss: 10.2026 - val_loss: 20.2291\n",
      "Epoch 43/300\n",
      "193/193 [==============================] - 1s 4ms/step - loss: 10.2110 - val_loss: 12.7614\n",
      "Epoch 44/300\n",
      "193/193 [==============================] - 1s 4ms/step - loss: 9.9287 - val_loss: 13.4283\n",
      "Epoch 45/300\n",
      "193/193 [==============================] - 1s 4ms/step - loss: 9.8938 - val_loss: 10.7175\n",
      "Epoch 46/300\n",
      "193/193 [==============================] - 1s 4ms/step - loss: 9.8889 - val_loss: 7.8707\n",
      "Epoch 47/300\n",
      "193/193 [==============================] - 1s 3ms/step - loss: 9.6729 - val_loss: 11.7388\n",
      "Epoch 48/300\n",
      "193/193 [==============================] - 1s 3ms/step - loss: 9.5662 - val_loss: 8.3375\n",
      "Epoch 49/300\n",
      "193/193 [==============================] - 1s 4ms/step - loss: 9.5202 - val_loss: 13.8950\n",
      "Epoch 50/300\n",
      "193/193 [==============================] - 1s 3ms/step - loss: 9.5123 - val_loss: 13.5826\n",
      "Epoch 51/300\n",
      "193/193 [==============================] - 0s 2ms/step - loss: 9.4707 - val_loss: 7.3343\n",
      "Epoch 52/300\n",
      "193/193 [==============================] - 1s 3ms/step - loss: 9.3117 - val_loss: 17.9137\n",
      "Epoch 53/300\n",
      "193/193 [==============================] - 1s 3ms/step - loss: 9.5938 - val_loss: 12.4650\n",
      "Epoch 54/300\n",
      "193/193 [==============================] - 1s 3ms/step - loss: 9.2666 - val_loss: 6.8115\n",
      "Epoch 55/300\n",
      "193/193 [==============================] - 1s 3ms/step - loss: 9.2670 - val_loss: 16.9438\n",
      "Epoch 56/300\n",
      "193/193 [==============================] - 1s 3ms/step - loss: 9.1704 - val_loss: 6.3947\n",
      "Epoch 57/300\n",
      "193/193 [==============================] - 1s 3ms/step - loss: 9.1883 - val_loss: 10.3479\n",
      "Epoch 58/300\n",
      "193/193 [==============================] - 1s 3ms/step - loss: 9.4054 - val_loss: 11.0508\n",
      "Epoch 59/300\n",
      "193/193 [==============================] - 1s 3ms/step - loss: 8.9327 - val_loss: 11.4700\n",
      "Epoch 60/300\n",
      "193/193 [==============================] - 1s 3ms/step - loss: 9.2912 - val_loss: 8.4828\n",
      "Epoch 61/300\n",
      "193/193 [==============================] - 1s 3ms/step - loss: 9.2833 - val_loss: 17.4947\n",
      "Epoch 62/300\n",
      "193/193 [==============================] - 1s 3ms/step - loss: 9.2206 - val_loss: 10.1738\n",
      "Epoch 63/300\n",
      "193/193 [==============================] - 1s 5ms/step - loss: 9.1351 - val_loss: 8.5479\n",
      "Epoch 64/300\n",
      "193/193 [==============================] - 1s 4ms/step - loss: 9.1470 - val_loss: 19.9563\n",
      "Epoch 65/300\n",
      "193/193 [==============================] - 1s 4ms/step - loss: 8.9320 - val_loss: 6.0881\n",
      "Epoch 66/300\n",
      "193/193 [==============================] - 1s 3ms/step - loss: 8.9143 - val_loss: 11.7804\n",
      "Epoch 67/300\n",
      "193/193 [==============================] - 1s 3ms/step - loss: 8.8958 - val_loss: 11.6362\n",
      "Epoch 68/300\n",
      "193/193 [==============================] - 1s 3ms/step - loss: 8.9800 - val_loss: 12.0795\n",
      "Epoch 69/300\n",
      "193/193 [==============================] - 1s 4ms/step - loss: 8.9911 - val_loss: 14.5820\n",
      "Epoch 70/300\n",
      "193/193 [==============================] - 1s 3ms/step - loss: 9.0189 - val_loss: 8.9365\n",
      "Epoch 71/300\n",
      "193/193 [==============================] - 1s 3ms/step - loss: 8.9044 - val_loss: 11.9175\n",
      "Epoch 72/300\n",
      "193/193 [==============================] - 1s 3ms/step - loss: 8.9687 - val_loss: 10.4789\n",
      "Epoch 73/300\n",
      "193/193 [==============================] - 1s 3ms/step - loss: 8.9523 - val_loss: 9.4829\n",
      "Epoch 74/300\n",
      "193/193 [==============================] - 1s 3ms/step - loss: 9.0597 - val_loss: 16.0998\n",
      "Epoch 75/300\n",
      "193/193 [==============================] - 1s 3ms/step - loss: 8.7649 - val_loss: 9.9371\n",
      "3/3 [==============================] - 0s 1ms/step - loss: 5.5590\n",
      "1/1 [==============================] - 0s 104ms/step\n"
     ]
    }
   ],
   "source": [
    "tensorboard_cb = keras.callbacks.TensorBoard(run_logdir)\n",
    "early_stopping_cb = keras.callbacks.EarlyStopping(patience = 10, restore_best_weights = True)\n",
    "n_epochs = 300\n",
    "batch_size = 1\n",
    "onecycle = OneCycleScheduler(math.ceil(len(X_train) / batch_size) * n_epochs, max_rate=0.05)\n",
    "history = model.fit(X_train, y_train, epochs=n_epochs,\n",
    "                    validation_data=(X_valid, y_valid),\n",
    "                    callbacks=[onecycle,early_stopping_cb,tensorboard_cb])\n",
    "mse_test = model.evaluate(X_test, y_test)\n",
    "X_new = X_test[:5]\n",
    "y_pred = model.predict(X_new)"
   ]
  },
  {
   "cell_type": "code",
   "execution_count": null,
   "id": "a694a613",
   "metadata": {
    "scrolled": true
   },
   "outputs": [],
   "source": [
    "%load_ext tensorboard\n",
    "%tensorboard --logdir=./mylog/230630 --port=1630"
   ]
  },
  {
   "cell_type": "code",
   "execution_count": 19,
   "id": "1a48e36b",
   "metadata": {
    "scrolled": true
   },
   "outputs": [],
   "source": [
    "model.save('H:/Jupyter_project/wearableActuator/myModel/'+dataname+'.h5')"
   ]
  },
  {
   "cell_type": "code",
   "execution_count": 20,
   "id": "68e5afdd",
   "metadata": {},
   "outputs": [
    {
     "name": "stdout",
     "output_type": "stream",
     "text": [
      "49/49 [==============================] - 0s 1ms/step\n"
     ]
    }
   ],
   "source": [
    "model = tf.keras.models.load_model('myModel/'+dataname+'.h5')\n",
    "scaler = load(file_name)\n",
    "valid_predictions = model.predict(X_valid)"
   ]
  },
  {
   "cell_type": "code",
   "execution_count": 21,
   "id": "9513de33",
   "metadata": {
    "scrolled": true
   },
   "outputs": [
    {
     "data": {
      "text/plain": [
       "array([[-1.32638202, -1.33247103],\n",
       "       [-1.28073318, -1.27769326],\n",
       "       [ 1.81121436,  1.80812087],\n",
       "       ...,\n",
       "       [ 1.34863953,  1.34555307],\n",
       "       [-1.11944064, -1.12248959],\n",
       "       [-1.040316  , -1.04640936]])"
      ]
     },
     "execution_count": 21,
     "metadata": {},
     "output_type": "execute_result"
    }
   ],
   "source": [
    "X_valid"
   ]
  },
  {
   "cell_type": "code",
   "execution_count": 22,
   "id": "123bfdfd",
   "metadata": {},
   "outputs": [
    {
     "data": {
      "text/plain": [
       "array([[ 3.1369715],\n",
       "       [ 5.461561 ],\n",
       "       [44.269344 ],\n",
       "       ...,\n",
       "       [36.897842 ],\n",
       "       [ 7.806562 ],\n",
       "       [ 8.004864 ]], dtype=float32)"
      ]
     },
     "execution_count": 22,
     "metadata": {},
     "output_type": "execute_result"
    }
   ],
   "source": [
    "valid_predictions"
   ]
  },
  {
   "cell_type": "code",
   "execution_count": 23,
   "id": "79486772",
   "metadata": {},
   "outputs": [
    {
     "data": {
      "text/plain": [
       "array([-0.93684532, -0.93381062])"
      ]
     },
     "execution_count": 23,
     "metadata": {},
     "output_type": "execute_result"
    }
   ],
   "source": [
    "X_test[0]"
   ]
  },
  {
   "cell_type": "code",
   "execution_count": 24,
   "id": "2507a3eb",
   "metadata": {},
   "outputs": [
    {
     "data": {
      "text/plain": [
       "array([[-0.93684532, -0.93381062]])"
      ]
     },
     "execution_count": 24,
     "metadata": {},
     "output_type": "execute_result"
    }
   ],
   "source": [
    "arr = X_test\n",
    "X_test0 = arr[:1]\n",
    "X_test0"
   ]
  },
  {
   "cell_type": "code",
   "execution_count": 25,
   "id": "a511dac7",
   "metadata": {
    "scrolled": false
   },
   "outputs": [
    {
     "data": {
      "text/html": [
       "<div>\n",
       "<style scoped>\n",
       "    .dataframe tbody tr th:only-of-type {\n",
       "        vertical-align: middle;\n",
       "    }\n",
       "\n",
       "    .dataframe tbody tr th {\n",
       "        vertical-align: top;\n",
       "    }\n",
       "\n",
       "    .dataframe thead th {\n",
       "        text-align: right;\n",
       "    }\n",
       "</style>\n",
       "<table border=\"1\" class=\"dataframe\">\n",
       "  <thead>\n",
       "    <tr style=\"text-align: right;\">\n",
       "      <th></th>\n",
       "      <th>valid_Tension</th>\n",
       "    </tr>\n",
       "  </thead>\n",
       "  <tbody>\n",
       "    <tr>\n",
       "      <th>0</th>\n",
       "      <td>3.136971</td>\n",
       "    </tr>\n",
       "    <tr>\n",
       "      <th>1</th>\n",
       "      <td>5.461561</td>\n",
       "    </tr>\n",
       "    <tr>\n",
       "      <th>2</th>\n",
       "      <td>44.269344</td>\n",
       "    </tr>\n",
       "    <tr>\n",
       "      <th>3</th>\n",
       "      <td>32.116089</td>\n",
       "    </tr>\n",
       "    <tr>\n",
       "      <th>4</th>\n",
       "      <td>34.544117</td>\n",
       "    </tr>\n",
       "    <tr>\n",
       "      <th>...</th>\n",
       "      <td>...</td>\n",
       "    </tr>\n",
       "    <tr>\n",
       "      <th>1534</th>\n",
       "      <td>14.159490</td>\n",
       "    </tr>\n",
       "    <tr>\n",
       "      <th>1535</th>\n",
       "      <td>0.881654</td>\n",
       "    </tr>\n",
       "    <tr>\n",
       "      <th>1536</th>\n",
       "      <td>36.897842</td>\n",
       "    </tr>\n",
       "    <tr>\n",
       "      <th>1537</th>\n",
       "      <td>7.806562</td>\n",
       "    </tr>\n",
       "    <tr>\n",
       "      <th>1538</th>\n",
       "      <td>8.004864</td>\n",
       "    </tr>\n",
       "  </tbody>\n",
       "</table>\n",
       "<p>1539 rows × 1 columns</p>\n",
       "</div>"
      ],
      "text/plain": [
       "      valid_Tension\n",
       "0          3.136971\n",
       "1          5.461561\n",
       "2         44.269344\n",
       "3         32.116089\n",
       "4         34.544117\n",
       "...             ...\n",
       "1534      14.159490\n",
       "1535       0.881654\n",
       "1536      36.897842\n",
       "1537       7.806562\n",
       "1538       8.004864\n",
       "\n",
       "[1539 rows x 1 columns]"
      ]
     },
     "execution_count": 25,
     "metadata": {},
     "output_type": "execute_result"
    }
   ],
   "source": [
    "valid_predictions_df=pd.DataFrame(valid_predictions)\n",
    "valid_predictions_df.columns = [\"valid_Tension\"]\n",
    "valid_predictions_df"
   ]
  },
  {
   "cell_type": "code",
   "execution_count": 26,
   "id": "856719f8",
   "metadata": {
    "scrolled": false
   },
   "outputs": [
    {
     "data": {
      "text/html": [
       "<div>\n",
       "<style scoped>\n",
       "    .dataframe tbody tr th:only-of-type {\n",
       "        vertical-align: middle;\n",
       "    }\n",
       "\n",
       "    .dataframe tbody tr th {\n",
       "        vertical-align: top;\n",
       "    }\n",
       "\n",
       "    .dataframe thead th {\n",
       "        text-align: right;\n",
       "    }\n",
       "</style>\n",
       "<table border=\"1\" class=\"dataframe\">\n",
       "  <thead>\n",
       "    <tr style=\"text-align: right;\">\n",
       "      <th></th>\n",
       "      <th>Tension</th>\n",
       "    </tr>\n",
       "  </thead>\n",
       "  <tbody>\n",
       "    <tr>\n",
       "      <th>0</th>\n",
       "      <td>1.9</td>\n",
       "    </tr>\n",
       "    <tr>\n",
       "      <th>1</th>\n",
       "      <td>7.1</td>\n",
       "    </tr>\n",
       "    <tr>\n",
       "      <th>2</th>\n",
       "      <td>40.7</td>\n",
       "    </tr>\n",
       "    <tr>\n",
       "      <th>3</th>\n",
       "      <td>32.8</td>\n",
       "    </tr>\n",
       "    <tr>\n",
       "      <th>4</th>\n",
       "      <td>31.7</td>\n",
       "    </tr>\n",
       "    <tr>\n",
       "      <th>...</th>\n",
       "      <td>...</td>\n",
       "    </tr>\n",
       "    <tr>\n",
       "      <th>1534</th>\n",
       "      <td>16.5</td>\n",
       "    </tr>\n",
       "    <tr>\n",
       "      <th>1535</th>\n",
       "      <td>2.2</td>\n",
       "    </tr>\n",
       "    <tr>\n",
       "      <th>1536</th>\n",
       "      <td>32.7</td>\n",
       "    </tr>\n",
       "    <tr>\n",
       "      <th>1537</th>\n",
       "      <td>4.8</td>\n",
       "    </tr>\n",
       "    <tr>\n",
       "      <th>1538</th>\n",
       "      <td>5.8</td>\n",
       "    </tr>\n",
       "  </tbody>\n",
       "</table>\n",
       "<p>1539 rows × 1 columns</p>\n",
       "</div>"
      ],
      "text/plain": [
       "      Tension\n",
       "0         1.9\n",
       "1         7.1\n",
       "2        40.7\n",
       "3        32.8\n",
       "4        31.7\n",
       "...       ...\n",
       "1534     16.5\n",
       "1535      2.2\n",
       "1536     32.7\n",
       "1537      4.8\n",
       "1538      5.8\n",
       "\n",
       "[1539 rows x 1 columns]"
      ]
     },
     "execution_count": 26,
     "metadata": {},
     "output_type": "execute_result"
    }
   ],
   "source": [
    "k= y_valid.to_numpy()\n",
    "k_df = pd.DataFrame(k)\n",
    "k_df.columns  = [\"Tension\"]\n",
    "k_df"
   ]
  },
  {
   "cell_type": "code",
   "execution_count": 27,
   "id": "8491fba8",
   "metadata": {
    "scrolled": true
   },
   "outputs": [
    {
     "data": {
      "text/html": [
       "<div>\n",
       "<style scoped>\n",
       "    .dataframe tbody tr th:only-of-type {\n",
       "        vertical-align: middle;\n",
       "    }\n",
       "\n",
       "    .dataframe tbody tr th {\n",
       "        vertical-align: top;\n",
       "    }\n",
       "\n",
       "    .dataframe thead th {\n",
       "        text-align: right;\n",
       "    }\n",
       "</style>\n",
       "<table border=\"1\" class=\"dataframe\">\n",
       "  <thead>\n",
       "    <tr style=\"text-align: right;\">\n",
       "      <th></th>\n",
       "      <th>Tension</th>\n",
       "    </tr>\n",
       "  </thead>\n",
       "  <tbody>\n",
       "    <tr>\n",
       "      <th>count</th>\n",
       "      <td>1539.000000</td>\n",
       "    </tr>\n",
       "    <tr>\n",
       "      <th>mean</th>\n",
       "      <td>22.364198</td>\n",
       "    </tr>\n",
       "    <tr>\n",
       "      <th>std</th>\n",
       "      <td>13.305136</td>\n",
       "    </tr>\n",
       "    <tr>\n",
       "      <th>min</th>\n",
       "      <td>0.000000</td>\n",
       "    </tr>\n",
       "    <tr>\n",
       "      <th>25%</th>\n",
       "      <td>11.750000</td>\n",
       "    </tr>\n",
       "    <tr>\n",
       "      <th>50%</th>\n",
       "      <td>21.200000</td>\n",
       "    </tr>\n",
       "    <tr>\n",
       "      <th>75%</th>\n",
       "      <td>32.400000</td>\n",
       "    </tr>\n",
       "    <tr>\n",
       "      <th>max</th>\n",
       "      <td>53.400000</td>\n",
       "    </tr>\n",
       "  </tbody>\n",
       "</table>\n",
       "</div>"
      ],
      "text/plain": [
       "           Tension\n",
       "count  1539.000000\n",
       "mean     22.364198\n",
       "std      13.305136\n",
       "min       0.000000\n",
       "25%      11.750000\n",
       "50%      21.200000\n",
       "75%      32.400000\n",
       "max      53.400000"
      ]
     },
     "execution_count": 27,
     "metadata": {},
     "output_type": "execute_result"
    }
   ],
   "source": [
    "k_df.describe()"
   ]
  },
  {
   "cell_type": "code",
   "execution_count": 28,
   "id": "77459531",
   "metadata": {
    "scrolled": true
   },
   "outputs": [
    {
     "name": "stdout",
     "output_type": "stream",
     "text": [
      "corr\n",
      "98.30% Tension\n"
     ]
    },
    {
     "data": {
      "text/html": [
       "<div>\n",
       "<style scoped>\n",
       "    .dataframe tbody tr th:only-of-type {\n",
       "        vertical-align: middle;\n",
       "    }\n",
       "\n",
       "    .dataframe tbody tr th {\n",
       "        vertical-align: top;\n",
       "    }\n",
       "\n",
       "    .dataframe thead th {\n",
       "        text-align: right;\n",
       "    }\n",
       "</style>\n",
       "<table border=\"1\" class=\"dataframe\">\n",
       "  <thead>\n",
       "    <tr style=\"text-align: right;\">\n",
       "      <th></th>\n",
       "      <th>Tension</th>\n",
       "      <th>valid_Tension</th>\n",
       "    </tr>\n",
       "  </thead>\n",
       "  <tbody>\n",
       "    <tr>\n",
       "      <th>Tension</th>\n",
       "      <td>1.000000</td>\n",
       "      <td>0.983017</td>\n",
       "    </tr>\n",
       "    <tr>\n",
       "      <th>valid_Tension</th>\n",
       "      <td>0.983017</td>\n",
       "      <td>1.000000</td>\n",
       "    </tr>\n",
       "  </tbody>\n",
       "</table>\n",
       "</div>"
      ],
      "text/plain": [
       "                Tension  valid_Tension\n",
       "Tension        1.000000       0.983017\n",
       "valid_Tension  0.983017       1.000000"
      ]
     },
     "execution_count": 28,
     "metadata": {},
     "output_type": "execute_result"
    }
   ],
   "source": [
    "ValidPre = pd.concat( [k_df,valid_predictions_df],axis=1)\n",
    "ValidPre.head(5)\n",
    "corr = ValidPre.corr()\n",
    "print(\"corr\")\n",
    "for i in range(0,1):    \n",
    "    print(format(corr[valid_predictions_df.columns[i]][k_df.columns[i]]*100,'.2f')+'%',k_df.columns[i])\n",
    "corr"
   ]
  },
  {
   "cell_type": "code",
   "execution_count": 29,
   "id": "ac3c9b02",
   "metadata": {
    "scrolled": false
   },
   "outputs": [
    {
     "data": {
      "image/png": "[encoded data removed]",
      "text/plain": [
       "<Figure size 640x480 with 1 Axes>"
      ]
     },
     "metadata": {},
     "output_type": "display_data"
    }
   ],
   "source": [
    "alpa=0.1\n",
    "\n",
    "ValidPre.plot(kind=\"scatter\", x= \"valid_Tension\",y= \"Tension\",alpha = alpa)\n",
    "plt.savefig('H:/Jupyter_project/wearableActuator/savefig/'+dataname+'.png')\n"
   ]
  },
  {
   "cell_type": "code",
   "execution_count": null,
   "id": "70485cd2",
   "metadata": {},
   "outputs": [],
   "source": []
  }
 ],
 "metadata": {
  "kernelspec": {
   "display_name": "Python 3 (ipykernel)",
   "language": "python",
   "name": "python3"
  },
  "language_info": {
   "codemirror_mode": {
    "name": "ipython",
    "version": 3
   },
   "file_extension": ".py",
   "mimetype": "text/x-python",
   "name": "python",
   "nbconvert_exporter": "python",
   "pygments_lexer": "ipython3",
   "version": "3.10.9"
  }
 },
 "nbformat": 4,
 "nbformat_minor": 5
}
