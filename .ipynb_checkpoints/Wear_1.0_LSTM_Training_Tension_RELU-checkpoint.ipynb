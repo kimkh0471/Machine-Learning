{
 "cells": [
  {
   "cell_type": "code",
   "execution_count": 7,
   "id": "516a5fb3",
   "metadata": {},
   "outputs": [],
   "source": [
    "import os, sklearn, math\n",
    "import pandas as pd\n",
    "import tensorflow as tf\n",
    "from tensorflow.keras import layers\n",
    "import matplotlib.pyplot as plt\n",
    "from joblib import dump, load\n",
    "\n",
    "tf.random.set_seed(42)\n",
    "\n",
    "data = '230630_data'\n",
    "dataname = data+'_1'\n",
    "filename = 'myLearningData/'+data+'.csv'\n",
    "SD = pd.read_csv(filename)\n",
    "SD=SD.iloc[:,:5]\n",
    "SensorData = SD"
   ]
  },
  {
   "cell_type": "code",
   "execution_count": 8,
   "id": "c9b2e025",
   "metadata": {},
   "outputs": [
    {
     "data": {
      "text/html": [
       "<div>\n",
       "<style scoped>\n",
       "    .dataframe tbody tr th:only-of-type {\n",
       "        vertical-align: middle;\n",
       "    }\n",
       "\n",
       "    .dataframe tbody tr th {\n",
       "        vertical-align: top;\n",
       "    }\n",
       "\n",
       "    .dataframe thead th {\n",
       "        text-align: right;\n",
       "    }\n",
       "</style>\n",
       "<table border=\"1\" class=\"dataframe\">\n",
       "  <thead>\n",
       "    <tr style=\"text-align: right;\">\n",
       "      <th></th>\n",
       "      <th>Time</th>\n",
       "      <th>Distance</th>\n",
       "      <th>Tension</th>\n",
       "      <th>Resistance</th>\n",
       "      <th>cycle</th>\n",
       "    </tr>\n",
       "  </thead>\n",
       "  <tbody>\n",
       "    <tr>\n",
       "      <th>0</th>\n",
       "      <td>24.02</td>\n",
       "      <td>0.00</td>\n",
       "      <td>-3.1</td>\n",
       "      <td>8.46</td>\n",
       "      <td>Stretching</td>\n",
       "    </tr>\n",
       "    <tr>\n",
       "      <th>1</th>\n",
       "      <td>24.03</td>\n",
       "      <td>0.00</td>\n",
       "      <td>-3.1</td>\n",
       "      <td>8.46</td>\n",
       "      <td>Stretching</td>\n",
       "    </tr>\n",
       "    <tr>\n",
       "      <th>2</th>\n",
       "      <td>24.04</td>\n",
       "      <td>0.00</td>\n",
       "      <td>-3.0</td>\n",
       "      <td>8.46</td>\n",
       "      <td>Stretching</td>\n",
       "    </tr>\n",
       "    <tr>\n",
       "      <th>3</th>\n",
       "      <td>24.05</td>\n",
       "      <td>0.01</td>\n",
       "      <td>-3.1</td>\n",
       "      <td>8.39</td>\n",
       "      <td>Stretching</td>\n",
       "    </tr>\n",
       "    <tr>\n",
       "      <th>4</th>\n",
       "      <td>24.06</td>\n",
       "      <td>0.03</td>\n",
       "      <td>-2.8</td>\n",
       "      <td>8.39</td>\n",
       "      <td>Stretching</td>\n",
       "    </tr>\n",
       "    <tr>\n",
       "      <th>...</th>\n",
       "      <td>...</td>\n",
       "      <td>...</td>\n",
       "      <td>...</td>\n",
       "      <td>...</td>\n",
       "      <td>...</td>\n",
       "    </tr>\n",
       "    <tr>\n",
       "      <th>3878</th>\n",
       "      <td>71.95</td>\n",
       "      <td>0.00</td>\n",
       "      <td>-3.2</td>\n",
       "      <td>8.71</td>\n",
       "      <td>Relaxing</td>\n",
       "    </tr>\n",
       "    <tr>\n",
       "      <th>3879</th>\n",
       "      <td>71.97</td>\n",
       "      <td>0.00</td>\n",
       "      <td>-3.4</td>\n",
       "      <td>8.71</td>\n",
       "      <td>Relaxing</td>\n",
       "    </tr>\n",
       "    <tr>\n",
       "      <th>3880</th>\n",
       "      <td>71.98</td>\n",
       "      <td>0.00</td>\n",
       "      <td>-3.7</td>\n",
       "      <td>8.65</td>\n",
       "      <td>Relaxing</td>\n",
       "    </tr>\n",
       "    <tr>\n",
       "      <th>3881</th>\n",
       "      <td>71.99</td>\n",
       "      <td>0.00</td>\n",
       "      <td>-3.5</td>\n",
       "      <td>8.71</td>\n",
       "      <td>Relaxing</td>\n",
       "    </tr>\n",
       "    <tr>\n",
       "      <th>3882</th>\n",
       "      <td>72.00</td>\n",
       "      <td>0.00</td>\n",
       "      <td>-3.2</td>\n",
       "      <td>8.71</td>\n",
       "      <td>Relaxing</td>\n",
       "    </tr>\n",
       "  </tbody>\n",
       "</table>\n",
       "<p>3883 rows × 5 columns</p>\n",
       "</div>"
      ],
      "text/plain": [
       "       Time  Distance  Tension  Resistance       cycle\n",
       "0     24.02      0.00     -3.1        8.46  Stretching\n",
       "1     24.03      0.00     -3.1        8.46  Stretching\n",
       "2     24.04      0.00     -3.0        8.46  Stretching\n",
       "3     24.05      0.01     -3.1        8.39  Stretching\n",
       "4     24.06      0.03     -2.8        8.39  Stretching\n",
       "...     ...       ...      ...         ...         ...\n",
       "3878  71.95      0.00     -3.2        8.71    Relaxing\n",
       "3879  71.97      0.00     -3.4        8.71    Relaxing\n",
       "3880  71.98      0.00     -3.7        8.65    Relaxing\n",
       "3881  71.99      0.00     -3.5        8.71    Relaxing\n",
       "3882  72.00      0.00     -3.2        8.71    Relaxing\n",
       "\n",
       "[3883 rows x 5 columns]"
      ]
     },
     "execution_count": 8,
     "metadata": {},
     "output_type": "execute_result"
    }
   ],
   "source": [
    "SD"
   ]
  },
  {
   "cell_type": "code",
   "execution_count": 9,
   "id": "7227f645",
   "metadata": {},
   "outputs": [
    {
     "data": {
      "text/html": [
       "<div>\n",
       "<style scoped>\n",
       "    .dataframe tbody tr th:only-of-type {\n",
       "        vertical-align: middle;\n",
       "    }\n",
       "\n",
       "    .dataframe tbody tr th {\n",
       "        vertical-align: top;\n",
       "    }\n",
       "\n",
       "    .dataframe thead th {\n",
       "        text-align: right;\n",
       "    }\n",
       "</style>\n",
       "<table border=\"1\" class=\"dataframe\">\n",
       "  <thead>\n",
       "    <tr style=\"text-align: right;\">\n",
       "      <th></th>\n",
       "      <th>Time</th>\n",
       "      <th>Distance</th>\n",
       "      <th>Tension</th>\n",
       "      <th>Resistance</th>\n",
       "    </tr>\n",
       "  </thead>\n",
       "  <tbody>\n",
       "    <tr>\n",
       "      <th>count</th>\n",
       "      <td>3883.000000</td>\n",
       "      <td>3883.000000</td>\n",
       "      <td>3883.000000</td>\n",
       "      <td>3883.000000</td>\n",
       "    </tr>\n",
       "    <tr>\n",
       "      <th>mean</th>\n",
       "      <td>48.008653</td>\n",
       "      <td>6.006531</td>\n",
       "      <td>22.930157</td>\n",
       "      <td>22.713667</td>\n",
       "    </tr>\n",
       "    <tr>\n",
       "      <th>std</th>\n",
       "      <td>13.858605</td>\n",
       "      <td>3.606321</td>\n",
       "      <td>14.749852</td>\n",
       "      <td>8.412671</td>\n",
       "    </tr>\n",
       "    <tr>\n",
       "      <th>min</th>\n",
       "      <td>24.020000</td>\n",
       "      <td>-0.010000</td>\n",
       "      <td>-4.900000</td>\n",
       "      <td>8.390000</td>\n",
       "    </tr>\n",
       "    <tr>\n",
       "      <th>25%</th>\n",
       "      <td>36.020000</td>\n",
       "      <td>2.860000</td>\n",
       "      <td>11.100000</td>\n",
       "      <td>15.040000</td>\n",
       "    </tr>\n",
       "    <tr>\n",
       "      <th>50%</th>\n",
       "      <td>48.010000</td>\n",
       "      <td>6.030000</td>\n",
       "      <td>22.900000</td>\n",
       "      <td>23.710000</td>\n",
       "    </tr>\n",
       "    <tr>\n",
       "      <th>75%</th>\n",
       "      <td>60.010000</td>\n",
       "      <td>9.140000</td>\n",
       "      <td>34.900000</td>\n",
       "      <td>30.430000</td>\n",
       "    </tr>\n",
       "    <tr>\n",
       "      <th>max</th>\n",
       "      <td>72.000000</td>\n",
       "      <td>12.010000</td>\n",
       "      <td>50.200000</td>\n",
       "      <td>35.470000</td>\n",
       "    </tr>\n",
       "  </tbody>\n",
       "</table>\n",
       "</div>"
      ],
      "text/plain": [
       "              Time     Distance      Tension   Resistance\n",
       "count  3883.000000  3883.000000  3883.000000  3883.000000\n",
       "mean     48.008653     6.006531    22.930157    22.713667\n",
       "std      13.858605     3.606321    14.749852     8.412671\n",
       "min      24.020000    -0.010000    -4.900000     8.390000\n",
       "25%      36.020000     2.860000    11.100000    15.040000\n",
       "50%      48.010000     6.030000    22.900000    23.710000\n",
       "75%      60.010000     9.140000    34.900000    30.430000\n",
       "max      72.000000    12.010000    50.200000    35.470000"
      ]
     },
     "execution_count": 9,
     "metadata": {},
     "output_type": "execute_result"
    }
   ],
   "source": [
    "SD.describe()"
   ]
  },
  {
   "cell_type": "code",
   "execution_count": 10,
   "id": "63e84120",
   "metadata": {
    "scrolled": true
   },
   "outputs": [
    {
     "data": {
      "text/plain": [
       "<Axes: >"
      ]
     },
     "execution_count": 10,
     "metadata": {},
     "output_type": "execute_result"
    },
    {
     "data": {
      "image/png": "[encoded data removed]",
      "text/plain": [
       "<Figure size 640x480 with 1 Axes>"
      ]
     },
     "metadata": {},
     "output_type": "display_data"
    }
   ],
   "source": [
    "SDz=(SD.loc[:,'Distance'])\n",
    "SDz.plot()"
   ]
  },
  {
   "cell_type": "code",
   "execution_count": 11,
   "id": "09cac4ae",
   "metadata": {
    "scrolled": true
   },
   "outputs": [
    {
     "name": "stderr",
     "output_type": "stream",
     "text": [
      "C:\\Users\\Public\\Documents\\ESTsoft\\CreatorTemp\\ipykernel_35968\\3116355480.py:2: SettingWithCopyWarning: \n",
      "A value is trying to be set on a copy of a slice from a DataFrame.\n",
      "Try using .loc[row_indexer,col_indexer] = value instead\n",
      "\n",
      "See the caveats in the documentation: https://pandas.pydata.org/pandas-docs/stable/user_guide/indexing.html#returning-a-view-versus-a-copy\n",
      "  X['index'] = X.index+1\n"
     ]
    },
    {
     "ename": "KeyError",
     "evalue": "\"['Distance'] not in index\"",
     "output_type": "error",
     "traceback": [
      "\u001b[1;31m---------------------------------------------------------------------------\u001b[0m",
      "\u001b[1;31mKeyError\u001b[0m                                  Traceback (most recent call last)",
      "Cell \u001b[1;32mIn[11], line 3\u001b[0m\n\u001b[0;32m      1\u001b[0m X \u001b[38;5;241m=\u001b[39m SD\u001b[38;5;241m.\u001b[39miloc[:,[\u001b[38;5;241m0\u001b[39m,\u001b[38;5;241m3\u001b[39m]]\n\u001b[0;32m      2\u001b[0m X[\u001b[38;5;124m'\u001b[39m\u001b[38;5;124mindex\u001b[39m\u001b[38;5;124m'\u001b[39m] \u001b[38;5;241m=\u001b[39m X\u001b[38;5;241m.\u001b[39mindex\u001b[38;5;241m+\u001b[39m\u001b[38;5;241m1\u001b[39m\n\u001b[1;32m----> 3\u001b[0m X \u001b[38;5;241m=\u001b[39m \u001b[43mX\u001b[49m\u001b[43m[\u001b[49m\u001b[43m[\u001b[49m\u001b[38;5;124;43m'\u001b[39;49m\u001b[38;5;124;43mindex\u001b[39;49m\u001b[38;5;124;43m'\u001b[39;49m\u001b[43m,\u001b[49m\u001b[38;5;124;43m'\u001b[39;49m\u001b[38;5;124;43mTime\u001b[39;49m\u001b[38;5;124;43m'\u001b[39;49m\u001b[43m,\u001b[49m\u001b[38;5;124;43m'\u001b[39;49m\u001b[38;5;124;43mDistance\u001b[39;49m\u001b[38;5;124;43m'\u001b[39;49m\u001b[43m]\u001b[49m\u001b[43m]\u001b[49m\n\u001b[0;32m      4\u001b[0m y \u001b[38;5;241m=\u001b[39m SD\u001b[38;5;241m.\u001b[39miloc[:,[\u001b[38;5;241m2\u001b[39m]]\n",
      "File \u001b[1;32mC:\\ProgramData\\anaconda3\\lib\\site-packages\\pandas\\core\\frame.py:3813\u001b[0m, in \u001b[0;36mDataFrame.__getitem__\u001b[1;34m(self, key)\u001b[0m\n\u001b[0;32m   3811\u001b[0m     \u001b[38;5;28;01mif\u001b[39;00m is_iterator(key):\n\u001b[0;32m   3812\u001b[0m         key \u001b[38;5;241m=\u001b[39m \u001b[38;5;28mlist\u001b[39m(key)\n\u001b[1;32m-> 3813\u001b[0m     indexer \u001b[38;5;241m=\u001b[39m \u001b[38;5;28;43mself\u001b[39;49m\u001b[38;5;241;43m.\u001b[39;49m\u001b[43mcolumns\u001b[49m\u001b[38;5;241;43m.\u001b[39;49m\u001b[43m_get_indexer_strict\u001b[49m\u001b[43m(\u001b[49m\u001b[43mkey\u001b[49m\u001b[43m,\u001b[49m\u001b[43m \u001b[49m\u001b[38;5;124;43m\"\u001b[39;49m\u001b[38;5;124;43mcolumns\u001b[39;49m\u001b[38;5;124;43m\"\u001b[39;49m\u001b[43m)\u001b[49m[\u001b[38;5;241m1\u001b[39m]\n\u001b[0;32m   3815\u001b[0m \u001b[38;5;66;03m# take() does not accept boolean indexers\u001b[39;00m\n\u001b[0;32m   3816\u001b[0m \u001b[38;5;28;01mif\u001b[39;00m \u001b[38;5;28mgetattr\u001b[39m(indexer, \u001b[38;5;124m\"\u001b[39m\u001b[38;5;124mdtype\u001b[39m\u001b[38;5;124m\"\u001b[39m, \u001b[38;5;28;01mNone\u001b[39;00m) \u001b[38;5;241m==\u001b[39m \u001b[38;5;28mbool\u001b[39m:\n",
      "File \u001b[1;32mC:\\ProgramData\\anaconda3\\lib\\site-packages\\pandas\\core\\indexes\\base.py:6070\u001b[0m, in \u001b[0;36mIndex._get_indexer_strict\u001b[1;34m(self, key, axis_name)\u001b[0m\n\u001b[0;32m   6067\u001b[0m \u001b[38;5;28;01melse\u001b[39;00m:\n\u001b[0;32m   6068\u001b[0m     keyarr, indexer, new_indexer \u001b[38;5;241m=\u001b[39m \u001b[38;5;28mself\u001b[39m\u001b[38;5;241m.\u001b[39m_reindex_non_unique(keyarr)\n\u001b[1;32m-> 6070\u001b[0m \u001b[38;5;28;43mself\u001b[39;49m\u001b[38;5;241;43m.\u001b[39;49m\u001b[43m_raise_if_missing\u001b[49m\u001b[43m(\u001b[49m\u001b[43mkeyarr\u001b[49m\u001b[43m,\u001b[49m\u001b[43m \u001b[49m\u001b[43mindexer\u001b[49m\u001b[43m,\u001b[49m\u001b[43m \u001b[49m\u001b[43maxis_name\u001b[49m\u001b[43m)\u001b[49m\n\u001b[0;32m   6072\u001b[0m keyarr \u001b[38;5;241m=\u001b[39m \u001b[38;5;28mself\u001b[39m\u001b[38;5;241m.\u001b[39mtake(indexer)\n\u001b[0;32m   6073\u001b[0m \u001b[38;5;28;01mif\u001b[39;00m \u001b[38;5;28misinstance\u001b[39m(key, Index):\n\u001b[0;32m   6074\u001b[0m     \u001b[38;5;66;03m# GH 42790 - Preserve name from an Index\u001b[39;00m\n",
      "File \u001b[1;32mC:\\ProgramData\\anaconda3\\lib\\site-packages\\pandas\\core\\indexes\\base.py:6133\u001b[0m, in \u001b[0;36mIndex._raise_if_missing\u001b[1;34m(self, key, indexer, axis_name)\u001b[0m\n\u001b[0;32m   6130\u001b[0m     \u001b[38;5;28;01mraise\u001b[39;00m \u001b[38;5;167;01mKeyError\u001b[39;00m(\u001b[38;5;124mf\u001b[39m\u001b[38;5;124m\"\u001b[39m\u001b[38;5;124mNone of [\u001b[39m\u001b[38;5;132;01m{\u001b[39;00mkey\u001b[38;5;132;01m}\u001b[39;00m\u001b[38;5;124m] are in the [\u001b[39m\u001b[38;5;132;01m{\u001b[39;00maxis_name\u001b[38;5;132;01m}\u001b[39;00m\u001b[38;5;124m]\u001b[39m\u001b[38;5;124m\"\u001b[39m)\n\u001b[0;32m   6132\u001b[0m not_found \u001b[38;5;241m=\u001b[39m \u001b[38;5;28mlist\u001b[39m(ensure_index(key)[missing_mask\u001b[38;5;241m.\u001b[39mnonzero()[\u001b[38;5;241m0\u001b[39m]]\u001b[38;5;241m.\u001b[39munique())\n\u001b[1;32m-> 6133\u001b[0m \u001b[38;5;28;01mraise\u001b[39;00m \u001b[38;5;167;01mKeyError\u001b[39;00m(\u001b[38;5;124mf\u001b[39m\u001b[38;5;124m\"\u001b[39m\u001b[38;5;132;01m{\u001b[39;00mnot_found\u001b[38;5;132;01m}\u001b[39;00m\u001b[38;5;124m not in index\u001b[39m\u001b[38;5;124m\"\u001b[39m)\n",
      "\u001b[1;31mKeyError\u001b[0m: \"['Distance'] not in index\""
     ]
    }
   ],
   "source": [
    "X = SD.iloc[:,[0,3]]\n",
    "X['index'] = X.index+1\n",
    "X = X[['index','Time','Distance']]\n",
    "y = SD.iloc[:,[2]]\n",
    "#y['index'] = y.index+1\n",
    "#y = y[['index','Time','Distance']]"
   ]
  },
  {
   "cell_type": "code",
   "execution_count": null,
   "id": "f5984a08",
   "metadata": {},
   "outputs": [],
   "source": [
    "SD['Resistance'] = (SD['Resistance']-SD['Resistance'].mean())/(SD['Resistance'].max()-SD['Resistance'].min())*2\n",
    "SD['Distance'] = (SD['Distance']-SD['Distance'].mean())/(SD['Distance'].max()-SD['Distance'].min())*2\n",
    "SD['Tension'] = (SD['Tension']-SD['Tension'].mean())/(SD['Tension'].max()-SD['Tension'].min())*2"
   ]
  },
  {
   "cell_type": "code",
   "execution_count": null,
   "id": "18d6637a",
   "metadata": {},
   "outputs": [],
   "source": [
    "X.sample(5)"
   ]
  },
  {
   "cell_type": "code",
   "execution_count": null,
   "id": "25dce433",
   "metadata": {},
   "outputs": [],
   "source": [
    "y.sample(5)"
   ]
  },
  {
   "cell_type": "code",
   "execution_count": null,
   "id": "019f4ef6",
   "metadata": {},
   "outputs": [],
   "source": [
    "from sklearn.model_selection import train_test_split\n",
    "from sklearn.preprocessing import StandardScaler\n",
    "\n",
    "X_train_full, X_test, y_train_full, y_test = train_test_split(X, y, test_size = 0.01, random_state=42)\n",
    "X_train, X_valid, y_train, y_valid = train_test_split(X_train_full, y_train_full, test_size = 0.20, random_state=42)\n"
   ]
  },
  {
   "cell_type": "code",
   "execution_count": null,
   "id": "d6c9bf9b",
   "metadata": {},
   "outputs": [],
   "source": [
    "X_sum = len(X_train)+len(X_valid)+len(X_test)\n",
    "X_train_per = int(len(X_train)/X_sum*100)\n",
    "X_valid_per = int(len(X_valid)/X_sum*100)\n",
    "X_test_per = int(len(X_test)/X_sum*100)\n",
    "\n",
    "print('X_train: ',len(X_train),'ea',X_train_per,'%   ', \n",
    "      'X_valid: ',len(X_valid),'ea',X_valid_per,'%   ',\n",
    "      'X_test: ',len(X_test),'ea',X_test_per,'%',)"
   ]
  },
  {
   "cell_type": "code",
   "execution_count": null,
   "id": "f18f36a6",
   "metadata": {},
   "outputs": [],
   "source": [
    "scaler = StandardScaler()\n",
    "X_train = scaler.fit_transform(X_train)\n",
    "X_valid = scaler.transform(X_valid)\n",
    "X_test = scaler.transform(X_test)\n",
    "X_train = X_train.reshape((X_train.shape[0], 1, X_train.shape[1]))\n",
    "X_valid = X_valid.reshape((X_valid.shape[0], 1, X_valid.shape[1]))\n",
    "X_test = X_test.reshape((X_test.shape[0], 1, X_test.shape[1]))\n"
   ]
  },
  {
   "cell_type": "code",
   "execution_count": null,
   "id": "ed14cf74",
   "metadata": {},
   "outputs": [],
   "source": [
    "X_train.shape"
   ]
  },
  {
   "cell_type": "code",
   "execution_count": null,
   "id": "d7bc9f57",
   "metadata": {},
   "outputs": [],
   "source": [
    "import pickle\n",
    "from joblib import dump, load\n",
    "\n",
    "file_name = 'myScaler/'+dataname+'_LSTM'+'_SS.pkl'\n",
    "dump(scaler, file_name)"
   ]
  },
  {
   "cell_type": "code",
   "execution_count": null,
   "id": "4f8d8d8c",
   "metadata": {},
   "outputs": [],
   "source": [
    "from tensorflow import keras\n",
    "model = keras.models.Sequential([\n",
    "    keras.layers.LSTM(16, return_sequences=True, input_shape=(X_train.shape[1], X_train.shape[2])),\n",
    "    keras.layers.LSTM(16, return_sequences=True),\n",
    "    keras.layers.LSTM(16),\n",
    "    keras.layers.Dense(1)\n",
    "])\n",
    "\n",
    "model.compile(loss=\"mean_squared_error\", optimizer=keras.optimizers.RMSprop(learning_rate=1e-3, rho = 0.9))"
   ]
  },
  {
   "cell_type": "code",
   "execution_count": null,
   "id": "d2204d0d",
   "metadata": {
    "scrolled": false
   },
   "outputs": [],
   "source": [
    "model.summary()"
   ]
  },
  {
   "cell_type": "markdown",
   "id": "0ca59749",
   "metadata": {},
   "source": [
    "## Callback (best, early stopping, tensorboard)"
   ]
  },
  {
   "cell_type": "code",
   "execution_count": null,
   "id": "f4e30df0",
   "metadata": {},
   "outputs": [],
   "source": [
    "import os \n",
    "#root_logdir = os.path.join(os.curdir, 'mylog/'+data)\n",
    "root_logdir = os.path.join(os.curdir, 'mylog/'+'230630')\n",
    "\n",
    "def get_run_logdir():\n",
    "    import time\n",
    "    run_id= time.strftime(\"%m%d_%Hh%Mm%Ss\"+dataname)\n",
    "    return os.path.join(root_logdir, run_id)\n",
    "\n",
    "run_logdir = get_run_logdir()"
   ]
  },
  {
   "cell_type": "code",
   "execution_count": null,
   "id": "3df612ec",
   "metadata": {},
   "outputs": [],
   "source": [
    "K = keras.backend\n",
    "class OneCycleScheduler(keras.callbacks.Callback):\n",
    "    def __init__(self, iterations, max_rate, start_rate=None,\n",
    "                 last_iterations=None, last_rate=None):\n",
    "        self.iterations = iterations\n",
    "        self.max_rate = max_rate\n",
    "        self.start_rate = start_rate or max_rate / 10\n",
    "        self.last_iterations = last_iterations or iterations // 10 + 1\n",
    "        self.half_iteration = (iterations - self.last_iterations) // 2\n",
    "        self.last_rate = last_rate or self.start_rate / 1000\n",
    "        self.iteration = 0\n",
    "    def _interpolate(self, iter1, iter2, rate1, rate2):\n",
    "        return ((rate2 - rate1) * (self.iteration - iter1)\n",
    "                / (iter2 - iter1) + rate1)\n",
    "    def on_batch_begin(self, batch, logs):\n",
    "        if self.iteration < self.half_iteration:\n",
    "            rate = self._interpolate(0, self.half_iteration, self.start_rate, self.max_rate)\n",
    "        elif self.iteration < 2 * self.half_iteration:\n",
    "            rate = self._interpolate(self.half_iteration, 2 * self.half_iteration,\n",
    "                                     self.max_rate, self.start_rate)\n",
    "        else:\n",
    "            rate = self._interpolate(2 * self.half_iteration, self.iterations,\n",
    "                                     self.start_rate, self.last_rate)\n",
    "        self.iteration += 1\n",
    "        K.set_value(self.model.optimizer.learning_rate, rate)"
   ]
  },
  {
   "cell_type": "code",
   "execution_count": null,
   "id": "591586f2",
   "metadata": {},
   "outputs": [],
   "source": [
    "dataname"
   ]
  },
  {
   "cell_type": "code",
   "execution_count": null,
   "id": "23dbe95b",
   "metadata": {
    "scrolled": true
   },
   "outputs": [],
   "source": [
    "tensorboard_cb = keras.callbacks.TensorBoard(run_logdir)\n",
    "early_stopping_cb = keras.callbacks.EarlyStopping(patience = 10, restore_best_weights = True)\n",
    "n_epochs = 300\n",
    "batch_size = 1\n",
    "onecycle = OneCycleScheduler(math.ceil(len(X_train) / batch_size) * n_epochs, max_rate=0.05)\n",
    "history = model.fit(X_train, y_train, epochs=n_epochs,\n",
    "                    validation_data=(X_valid, y_valid),\n",
    "                    callbacks=[onecycle,early_stopping_cb,tensorboard_cb])\n",
    "mse_test = model.evaluate(X_test, y_test)\n",
    "X_new = X_test[:5]\n",
    "y_pred = model.predict(X_new)"
   ]
  },
  {
   "cell_type": "code",
   "execution_count": null,
   "id": "a694a613",
   "metadata": {
    "scrolled": true
   },
   "outputs": [],
   "source": [
    "%load_ext tensorboard\n",
    "%tensorboard --logdir=./mylog/230630 --port=1630"
   ]
  },
  {
   "cell_type": "code",
   "execution_count": null,
   "id": "1a48e36b",
   "metadata": {
    "scrolled": true
   },
   "outputs": [],
   "source": [
    "model.save('H:/Jupyter_project/wearableActuator/myModel/'+dataname+'_LSTM'+'.h5')"
   ]
  },
  {
   "cell_type": "code",
   "execution_count": null,
   "id": "68e5afdd",
   "metadata": {},
   "outputs": [],
   "source": [
    "model = tf.keras.models.load_model('myModel/'+dataname+'_LSTM'+'.h5')\n",
    "scaler = load(file_name)\n",
    "valid_predictions = model.predict(X_valid)"
   ]
  },
  {
   "cell_type": "code",
   "execution_count": null,
   "id": "9513de33",
   "metadata": {
    "scrolled": true
   },
   "outputs": [],
   "source": [
    "X_valid"
   ]
  },
  {
   "cell_type": "code",
   "execution_count": null,
   "id": "123bfdfd",
   "metadata": {},
   "outputs": [],
   "source": [
    "valid_predictions"
   ]
  },
  {
   "cell_type": "code",
   "execution_count": null,
   "id": "79486772",
   "metadata": {},
   "outputs": [],
   "source": [
    "X_test[0]"
   ]
  },
  {
   "cell_type": "code",
   "execution_count": null,
   "id": "2507a3eb",
   "metadata": {},
   "outputs": [],
   "source": [
    "arr = X_test\n",
    "X_test0 = arr[:1]\n",
    "X_test0"
   ]
  },
  {
   "cell_type": "code",
   "execution_count": null,
   "id": "a511dac7",
   "metadata": {
    "scrolled": false
   },
   "outputs": [],
   "source": [
    "valid_predictions_df=pd.DataFrame(valid_predictions)\n",
    "valid_predictions_df.columns = [\"Resistance\"]\n",
    "valid_predictions_df"
   ]
  },
  {
   "cell_type": "code",
   "execution_count": null,
   "id": "856719f8",
   "metadata": {
    "scrolled": false
   },
   "outputs": [],
   "source": [
    "k= y_valid.to_numpy()\n",
    "k_df = pd.DataFrame(k)\n",
    "k_df.columns  = [\"Valid_Resistance\"]\n",
    "k_df"
   ]
  },
  {
   "cell_type": "code",
   "execution_count": null,
   "id": "8491fba8",
   "metadata": {
    "scrolled": true
   },
   "outputs": [],
   "source": [
    "k_df.describe()"
   ]
  },
  {
   "cell_type": "code",
   "execution_count": null,
   "id": "77459531",
   "metadata": {
    "scrolled": true
   },
   "outputs": [],
   "source": [
    "ValidPre = pd.concat( [k_df,valid_predictions_df],axis=1)\n",
    "ValidPre.head(5)\n",
    "corr = ValidPre.corr()\n",
    "print(\"corr\")\n",
    "for i in range(0,1):    \n",
    "    print(format(corr[valid_predictions_df.columns[i]][k_df.columns[i]]*100,'.2f')+'%',k_df.columns[i])\n",
    "corr"
   ]
  },
  {
   "cell_type": "code",
   "execution_count": null,
   "id": "ac3c9b02",
   "metadata": {
    "scrolled": false
   },
   "outputs": [],
   "source": [
    "alpa=0.1\n",
    "\n",
    "ValidPre.plot(kind=\"scatter\", x= \"Valid_Resistance\",y= \"Resistance\",alpha = alpa)\n",
    "plt.savefig('H:/Jupyter_project/wearableActuator/savefig/'+dataname+'.png')\n"
   ]
  },
  {
   "cell_type": "code",
   "execution_count": null,
   "id": "b96cff69",
   "metadata": {},
   "outputs": [],
   "source": []
  }
 ],
 "metadata": {
  "kernelspec": {
   "display_name": "Python 3 (ipykernel)",
   "language": "python",
   "name": "python3"
  },
  "language_info": {
   "codemirror_mode": {
    "name": "ipython",
    "version": 3
   },
   "file_extension": ".py",
   "mimetype": "text/x-python",
   "name": "python",
   "nbconvert_exporter": "python",
   "pygments_lexer": "ipython3",
   "version": "3.10.9"
  }
 },
 "nbformat": 4,
 "nbformat_minor": 5
}
