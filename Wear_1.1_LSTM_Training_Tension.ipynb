{
 "cells": [
  {
   "cell_type": "markdown",
   "id": "e6e96284",
   "metadata": {},
   "source": [
    "Importing Library"
   ]
  },
  {
   "cell_type": "code",
   "execution_count": 1,
   "id": "516a5fb3",
   "metadata": {},
   "outputs": [],
   "source": [
    "import os, sklearn, math\n",
    "import pandas as pd\n",
    "import tensorflow as tf\n",
    "from tensorflow.keras import layers\n",
    "import matplotlib.pyplot as plt\n",
    "from joblib import dump, load\n",
    "\n",
    "tf.random.set_seed(42)"
   ]
  },
  {
   "cell_type": "markdown",
   "id": "6fd11d6f",
   "metadata": {},
   "source": [
    "Loading experimental data set"
   ]
  },
  {
   "cell_type": "code",
   "execution_count": 2,
   "id": "4a2440bf",
   "metadata": {},
   "outputs": [],
   "source": [
    "data = '230703_data_2' # Experimental data name\n",
    "dataname = data+'Tension'+'_0703_2' # Ouput name\n",
    "filename = 'myLearningData/'+data+'.csv' # Setting route of experimental data\n",
    "SD = pd.read_csv(filename) # Loading experimental data to dataframe by pandas\n",
    "SD=SD.iloc[:,:5] # Pandas code: (:)All row (5) five columns\n",
    "SensorData = SD # Rename"
   ]
  },
  {
   "cell_type": "code",
   "execution_count": 3,
   "id": "c9b2e025",
   "metadata": {},
   "outputs": [
    {
     "data": {
      "text/html": [
       "<div>\n",
       "<style scoped>\n",
       "    .dataframe tbody tr th:only-of-type {\n",
       "        vertical-align: middle;\n",
       "    }\n",
       "\n",
       "    .dataframe tbody tr th {\n",
       "        vertical-align: top;\n",
       "    }\n",
       "\n",
       "    .dataframe thead th {\n",
       "        text-align: right;\n",
       "    }\n",
       "</style>\n",
       "<table border=\"1\" class=\"dataframe\">\n",
       "  <thead>\n",
       "    <tr style=\"text-align: right;\">\n",
       "      <th></th>\n",
       "      <th>Time</th>\n",
       "      <th>Displacement</th>\n",
       "      <th>Tension</th>\n",
       "      <th>Resistance</th>\n",
       "      <th>Stutus</th>\n",
       "    </tr>\n",
       "  </thead>\n",
       "  <tbody>\n",
       "    <tr>\n",
       "      <th>0</th>\n",
       "      <td>20.03</td>\n",
       "      <td>0.00</td>\n",
       "      <td>-0.8</td>\n",
       "      <td>5.66</td>\n",
       "      <td>Stretching</td>\n",
       "    </tr>\n",
       "    <tr>\n",
       "      <th>1</th>\n",
       "      <td>20.03</td>\n",
       "      <td>0.00</td>\n",
       "      <td>-0.9</td>\n",
       "      <td>5.61</td>\n",
       "      <td>Stretching</td>\n",
       "    </tr>\n",
       "    <tr>\n",
       "      <th>2</th>\n",
       "      <td>20.04</td>\n",
       "      <td>0.00</td>\n",
       "      <td>-1.0</td>\n",
       "      <td>5.66</td>\n",
       "      <td>Stretching</td>\n",
       "    </tr>\n",
       "    <tr>\n",
       "      <th>3</th>\n",
       "      <td>20.06</td>\n",
       "      <td>0.02</td>\n",
       "      <td>-0.9</td>\n",
       "      <td>5.66</td>\n",
       "      <td>Stretching</td>\n",
       "    </tr>\n",
       "    <tr>\n",
       "      <th>4</th>\n",
       "      <td>20.07</td>\n",
       "      <td>0.03</td>\n",
       "      <td>-0.8</td>\n",
       "      <td>5.66</td>\n",
       "      <td>Stretching</td>\n",
       "    </tr>\n",
       "    <tr>\n",
       "      <th>...</th>\n",
       "      <td>...</td>\n",
       "      <td>...</td>\n",
       "      <td>...</td>\n",
       "      <td>...</td>\n",
       "      <td>...</td>\n",
       "    </tr>\n",
       "    <tr>\n",
       "      <th>8098</th>\n",
       "      <td>119.96</td>\n",
       "      <td>0.00</td>\n",
       "      <td>-1.4</td>\n",
       "      <td>5.78</td>\n",
       "      <td>Relaxing</td>\n",
       "    </tr>\n",
       "    <tr>\n",
       "      <th>8099</th>\n",
       "      <td>119.97</td>\n",
       "      <td>0.00</td>\n",
       "      <td>-1.4</td>\n",
       "      <td>5.78</td>\n",
       "      <td>Relaxing</td>\n",
       "    </tr>\n",
       "    <tr>\n",
       "      <th>8100</th>\n",
       "      <td>119.98</td>\n",
       "      <td>0.00</td>\n",
       "      <td>-1.3</td>\n",
       "      <td>5.84</td>\n",
       "      <td>Relaxing</td>\n",
       "    </tr>\n",
       "    <tr>\n",
       "      <th>8101</th>\n",
       "      <td>119.99</td>\n",
       "      <td>0.00</td>\n",
       "      <td>-1.3</td>\n",
       "      <td>5.78</td>\n",
       "      <td>Relaxing</td>\n",
       "    </tr>\n",
       "    <tr>\n",
       "      <th>8102</th>\n",
       "      <td>120.01</td>\n",
       "      <td>0.00</td>\n",
       "      <td>-1.4</td>\n",
       "      <td>5.78</td>\n",
       "      <td>Relaxing</td>\n",
       "    </tr>\n",
       "  </tbody>\n",
       "</table>\n",
       "<p>8103 rows × 5 columns</p>\n",
       "</div>"
      ],
      "text/plain": [
       "        Time  Displacement  Tension  Resistance      Stutus\n",
       "0      20.03          0.00     -0.8        5.66  Stretching\n",
       "1      20.03          0.00     -0.9        5.61  Stretching\n",
       "2      20.04          0.00     -1.0        5.66  Stretching\n",
       "3      20.06          0.02     -0.9        5.66  Stretching\n",
       "4      20.07          0.03     -0.8        5.66  Stretching\n",
       "...      ...           ...      ...         ...         ...\n",
       "8098  119.96          0.00     -1.4        5.78    Relaxing\n",
       "8099  119.97          0.00     -1.4        5.78    Relaxing\n",
       "8100  119.98          0.00     -1.3        5.84    Relaxing\n",
       "8101  119.99          0.00     -1.3        5.78    Relaxing\n",
       "8102  120.01          0.00     -1.4        5.78    Relaxing\n",
       "\n",
       "[8103 rows x 5 columns]"
      ]
     },
     "execution_count": 3,
     "metadata": {},
     "output_type": "execute_result"
    }
   ],
   "source": [
    "SD"
   ]
  },
  {
   "cell_type": "code",
   "execution_count": 4,
   "id": "7227f645",
   "metadata": {},
   "outputs": [
    {
     "data": {
      "text/html": [
       "<div>\n",
       "<style scoped>\n",
       "    .dataframe tbody tr th:only-of-type {\n",
       "        vertical-align: middle;\n",
       "    }\n",
       "\n",
       "    .dataframe tbody tr th {\n",
       "        vertical-align: top;\n",
       "    }\n",
       "\n",
       "    .dataframe thead th {\n",
       "        text-align: right;\n",
       "    }\n",
       "</style>\n",
       "<table border=\"1\" class=\"dataframe\">\n",
       "  <thead>\n",
       "    <tr style=\"text-align: right;\">\n",
       "      <th></th>\n",
       "      <th>Time</th>\n",
       "      <th>Displacement</th>\n",
       "      <th>Tension</th>\n",
       "      <th>Resistance</th>\n",
       "    </tr>\n",
       "  </thead>\n",
       "  <tbody>\n",
       "    <tr>\n",
       "      <th>count</th>\n",
       "      <td>8103.000000</td>\n",
       "      <td>8103.000000</td>\n",
       "      <td>8103.000000</td>\n",
       "      <td>8103.000000</td>\n",
       "    </tr>\n",
       "    <tr>\n",
       "      <th>mean</th>\n",
       "      <td>70.001122</td>\n",
       "      <td>4.969625</td>\n",
       "      <td>21.136702</td>\n",
       "      <td>14.783712</td>\n",
       "    </tr>\n",
       "    <tr>\n",
       "      <th>std</th>\n",
       "      <td>28.870978</td>\n",
       "      <td>2.988501</td>\n",
       "      <td>13.288929</td>\n",
       "      <td>6.262151</td>\n",
       "    </tr>\n",
       "    <tr>\n",
       "      <th>min</th>\n",
       "      <td>20.030000</td>\n",
       "      <td>-0.010000</td>\n",
       "      <td>-2.400000</td>\n",
       "      <td>5.550000</td>\n",
       "    </tr>\n",
       "    <tr>\n",
       "      <th>25%</th>\n",
       "      <td>45.005000</td>\n",
       "      <td>2.370000</td>\n",
       "      <td>10.100000</td>\n",
       "      <td>8.580000</td>\n",
       "    </tr>\n",
       "    <tr>\n",
       "      <th>50%</th>\n",
       "      <td>69.990000</td>\n",
       "      <td>4.980000</td>\n",
       "      <td>21.500000</td>\n",
       "      <td>15.040000</td>\n",
       "    </tr>\n",
       "    <tr>\n",
       "      <th>75%</th>\n",
       "      <td>95.015000</td>\n",
       "      <td>7.550000</td>\n",
       "      <td>32.200000</td>\n",
       "      <td>20.820000</td>\n",
       "    </tr>\n",
       "    <tr>\n",
       "      <th>max</th>\n",
       "      <td>120.010000</td>\n",
       "      <td>9.970000</td>\n",
       "      <td>44.500000</td>\n",
       "      <td>24.660000</td>\n",
       "    </tr>\n",
       "  </tbody>\n",
       "</table>\n",
       "</div>"
      ],
      "text/plain": [
       "              Time  Displacement      Tension   Resistance\n",
       "count  8103.000000   8103.000000  8103.000000  8103.000000\n",
       "mean     70.001122      4.969625    21.136702    14.783712\n",
       "std      28.870978      2.988501    13.288929     6.262151\n",
       "min      20.030000     -0.010000    -2.400000     5.550000\n",
       "25%      45.005000      2.370000    10.100000     8.580000\n",
       "50%      69.990000      4.980000    21.500000    15.040000\n",
       "75%      95.015000      7.550000    32.200000    20.820000\n",
       "max     120.010000      9.970000    44.500000    24.660000"
      ]
     },
     "execution_count": 4,
     "metadata": {},
     "output_type": "execute_result"
    }
   ],
   "source": [
    "SD.describe()"
   ]
  },
  {
   "cell_type": "code",
   "execution_count": 5,
   "id": "63e84120",
   "metadata": {
    "scrolled": true
   },
   "outputs": [
    {
     "data": {
      "text/html": [
       "<div>\n",
       "<style scoped>\n",
       "    .dataframe tbody tr th:only-of-type {\n",
       "        vertical-align: middle;\n",
       "    }\n",
       "\n",
       "    .dataframe tbody tr th {\n",
       "        vertical-align: top;\n",
       "    }\n",
       "\n",
       "    .dataframe thead th {\n",
       "        text-align: right;\n",
       "    }\n",
       "</style>\n",
       "<table border=\"1\" class=\"dataframe\">\n",
       "  <thead>\n",
       "    <tr style=\"text-align: right;\">\n",
       "      <th></th>\n",
       "      <th>Time</th>\n",
       "      <th>Displacement</th>\n",
       "    </tr>\n",
       "  </thead>\n",
       "  <tbody>\n",
       "    <tr>\n",
       "      <th>0</th>\n",
       "      <td>20.03</td>\n",
       "      <td>0.00</td>\n",
       "    </tr>\n",
       "    <tr>\n",
       "      <th>1</th>\n",
       "      <td>20.03</td>\n",
       "      <td>0.00</td>\n",
       "    </tr>\n",
       "    <tr>\n",
       "      <th>2</th>\n",
       "      <td>20.04</td>\n",
       "      <td>0.00</td>\n",
       "    </tr>\n",
       "    <tr>\n",
       "      <th>3</th>\n",
       "      <td>20.06</td>\n",
       "      <td>0.02</td>\n",
       "    </tr>\n",
       "    <tr>\n",
       "      <th>4</th>\n",
       "      <td>20.07</td>\n",
       "      <td>0.03</td>\n",
       "    </tr>\n",
       "    <tr>\n",
       "      <th>...</th>\n",
       "      <td>...</td>\n",
       "      <td>...</td>\n",
       "    </tr>\n",
       "    <tr>\n",
       "      <th>8098</th>\n",
       "      <td>119.96</td>\n",
       "      <td>0.00</td>\n",
       "    </tr>\n",
       "    <tr>\n",
       "      <th>8099</th>\n",
       "      <td>119.97</td>\n",
       "      <td>0.00</td>\n",
       "    </tr>\n",
       "    <tr>\n",
       "      <th>8100</th>\n",
       "      <td>119.98</td>\n",
       "      <td>0.00</td>\n",
       "    </tr>\n",
       "    <tr>\n",
       "      <th>8101</th>\n",
       "      <td>119.99</td>\n",
       "      <td>0.00</td>\n",
       "    </tr>\n",
       "    <tr>\n",
       "      <th>8102</th>\n",
       "      <td>120.01</td>\n",
       "      <td>0.00</td>\n",
       "    </tr>\n",
       "  </tbody>\n",
       "</table>\n",
       "<p>8103 rows × 2 columns</p>\n",
       "</div>"
      ],
      "text/plain": [
       "        Time  Displacement\n",
       "0      20.03          0.00\n",
       "1      20.03          0.00\n",
       "2      20.04          0.00\n",
       "3      20.06          0.02\n",
       "4      20.07          0.03\n",
       "...      ...           ...\n",
       "8098  119.96          0.00\n",
       "8099  119.97          0.00\n",
       "8100  119.98          0.00\n",
       "8101  119.99          0.00\n",
       "8102  120.01          0.00\n",
       "\n",
       "[8103 rows x 2 columns]"
      ]
     },
     "execution_count": 5,
     "metadata": {},
     "output_type": "execute_result"
    }
   ],
   "source": [
    "X = SD.iloc[:,[0,1]]\n",
    "X"
   ]
  },
  {
   "cell_type": "code",
   "execution_count": 7,
   "id": "1963fe99",
   "metadata": {},
   "outputs": [],
   "source": [
    "SD['Resistance'] = (SD['Resistance']-SD['Resistance'].mean())/(SD['Resistance'].max()-SD['Resistance'].min())*2\n",
    "SD['Displacement'] = (SD['Displacement']-SD['Displacement'].mean())/(SD['Displacement'].max()-SD['Displacement'].min())*2\n",
    "SD['Tension'] = (SD['Tension']-SD['Tension'].mean())/(SD['Tension'].max()-SD['Tension'].min())*2"
   ]
  },
  {
   "cell_type": "code",
   "execution_count": 8,
   "id": "09cac4ae",
   "metadata": {
    "scrolled": false
   },
   "outputs": [
    {
     "name": "stderr",
     "output_type": "stream",
     "text": [
      "C:\\Users\\Public\\Documents\\ESTsoft\\CreatorTemp\\ipykernel_42220\\4070815710.py:2: SettingWithCopyWarning: \n",
      "A value is trying to be set on a copy of a slice from a DataFrame.\n",
      "Try using .loc[row_indexer,col_indexer] = value instead\n",
      "\n",
      "See the caveats in the documentation: https://pandas.pydata.org/pandas-docs/stable/user_guide/indexing.html#returning-a-view-versus-a-copy\n",
      "  X['index'] = X.index+1\n"
     ]
    }
   ],
   "source": [
    "X = SD.iloc[:,[0,1]]\n",
    "X['index'] = X.index+1\n",
    "X = X[['index','Time','Displacement']]\n",
    "y = SD.iloc[:,[2]]\n",
    "#y['index'] = y.index+1\n",
    "#y = y[['index','Time','Distance']]"
   ]
  },
  {
   "cell_type": "code",
   "execution_count": 9,
   "id": "18d6637a",
   "metadata": {},
   "outputs": [
    {
     "data": {
      "text/html": [
       "<div>\n",
       "<style scoped>\n",
       "    .dataframe tbody tr th:only-of-type {\n",
       "        vertical-align: middle;\n",
       "    }\n",
       "\n",
       "    .dataframe tbody tr th {\n",
       "        vertical-align: top;\n",
       "    }\n",
       "\n",
       "    .dataframe thead th {\n",
       "        text-align: right;\n",
       "    }\n",
       "</style>\n",
       "<table border=\"1\" class=\"dataframe\">\n",
       "  <thead>\n",
       "    <tr style=\"text-align: right;\">\n",
       "      <th></th>\n",
       "      <th>index</th>\n",
       "      <th>Time</th>\n",
       "      <th>Displacement</th>\n",
       "    </tr>\n",
       "  </thead>\n",
       "  <tbody>\n",
       "    <tr>\n",
       "      <th>1874</th>\n",
       "      <td>1875</td>\n",
       "      <td>43.13</td>\n",
       "      <td>-0.356638</td>\n",
       "    </tr>\n",
       "    <tr>\n",
       "      <th>6494</th>\n",
       "      <td>6495</td>\n",
       "      <td>100.17</td>\n",
       "      <td>-0.969865</td>\n",
       "    </tr>\n",
       "    <tr>\n",
       "      <th>5833</th>\n",
       "      <td>5834</td>\n",
       "      <td>91.97</td>\n",
       "      <td>0.599274</td>\n",
       "    </tr>\n",
       "    <tr>\n",
       "      <th>1316</th>\n",
       "      <td>1317</td>\n",
       "      <td>36.25</td>\n",
       "      <td>-0.292510</td>\n",
       "    </tr>\n",
       "    <tr>\n",
       "      <th>6681</th>\n",
       "      <td>6682</td>\n",
       "      <td>102.48</td>\n",
       "      <td>-0.492911</td>\n",
       "    </tr>\n",
       "  </tbody>\n",
       "</table>\n",
       "</div>"
      ],
      "text/plain": [
       "      index    Time  Displacement\n",
       "1874   1875   43.13     -0.356638\n",
       "6494   6495  100.17     -0.969865\n",
       "5833   5834   91.97      0.599274\n",
       "1316   1317   36.25     -0.292510\n",
       "6681   6682  102.48     -0.492911"
      ]
     },
     "execution_count": 9,
     "metadata": {},
     "output_type": "execute_result"
    }
   ],
   "source": [
    "X.sample(5)"
   ]
  },
  {
   "cell_type": "code",
   "execution_count": 10,
   "id": "25dce433",
   "metadata": {},
   "outputs": [
    {
     "data": {
      "text/html": [
       "<div>\n",
       "<style scoped>\n",
       "    .dataframe tbody tr th:only-of-type {\n",
       "        vertical-align: middle;\n",
       "    }\n",
       "\n",
       "    .dataframe tbody tr th {\n",
       "        vertical-align: top;\n",
       "    }\n",
       "\n",
       "    .dataframe thead th {\n",
       "        text-align: right;\n",
       "    }\n",
       "</style>\n",
       "<table border=\"1\" class=\"dataframe\">\n",
       "  <thead>\n",
       "    <tr style=\"text-align: right;\">\n",
       "      <th></th>\n",
       "      <th>Tension</th>\n",
       "    </tr>\n",
       "  </thead>\n",
       "  <tbody>\n",
       "    <tr>\n",
       "      <th>7870</th>\n",
       "      <td>-0.585787</td>\n",
       "    </tr>\n",
       "    <tr>\n",
       "      <th>2627</th>\n",
       "      <td>0.267092</td>\n",
       "    </tr>\n",
       "    <tr>\n",
       "      <th>2999</th>\n",
       "      <td>-0.538879</td>\n",
       "    </tr>\n",
       "    <tr>\n",
       "      <th>2965</th>\n",
       "      <td>-0.479177</td>\n",
       "    </tr>\n",
       "    <tr>\n",
       "      <th>4216</th>\n",
       "      <td>0.339586</td>\n",
       "    </tr>\n",
       "  </tbody>\n",
       "</table>\n",
       "</div>"
      ],
      "text/plain": [
       "       Tension\n",
       "7870 -0.585787\n",
       "2627  0.267092\n",
       "2999 -0.538879\n",
       "2965 -0.479177\n",
       "4216  0.339586"
      ]
     },
     "execution_count": 10,
     "metadata": {},
     "output_type": "execute_result"
    }
   ],
   "source": [
    "y.sample(5)"
   ]
  },
  {
   "cell_type": "code",
   "execution_count": 11,
   "id": "019f4ef6",
   "metadata": {},
   "outputs": [],
   "source": [
    "from sklearn.model_selection import train_test_split\n",
    "from sklearn.preprocessing import StandardScaler\n",
    "\n",
    "X_train_full, X_test, y_train_full, y_test = train_test_split(X, y, test_size = 0.01, random_state=42)\n",
    "X_train, X_valid, y_train, y_valid = train_test_split(X_train_full, y_train_full, test_size = 0.20, random_state=42)\n"
   ]
  },
  {
   "cell_type": "code",
   "execution_count": 12,
   "id": "d6c9bf9b",
   "metadata": {},
   "outputs": [
    {
     "name": "stdout",
     "output_type": "stream",
     "text": [
      "X_train:  6416 ea 79 %    X_valid:  1605 ea 19 %    X_test:  82 ea 1 %\n"
     ]
    }
   ],
   "source": [
    "X_sum = len(X_train)+len(X_valid)+len(X_test)\n",
    "X_train_per = int(len(X_train)/X_sum*100)\n",
    "X_valid_per = int(len(X_valid)/X_sum*100)\n",
    "X_test_per = int(len(X_test)/X_sum*100)\n",
    "\n",
    "print('X_train: ',len(X_train),'ea',X_train_per,'%   ', \n",
    "      'X_valid: ',len(X_valid),'ea',X_valid_per,'%   ',\n",
    "      'X_test: ',len(X_test),'ea',X_test_per,'%',)"
   ]
  },
  {
   "cell_type": "code",
   "execution_count": 13,
   "id": "f18f36a6",
   "metadata": {},
   "outputs": [],
   "source": [
    "scaler = StandardScaler()\n",
    "X_train = scaler.fit_transform(X_train)\n",
    "X_valid = scaler.transform(X_valid)\n",
    "X_test = scaler.transform(X_test)\n",
    "X_train = X_train.reshape((X_train.shape[0], 1, X_train.shape[1]))\n",
    "X_valid = X_valid.reshape((X_valid.shape[0], 1, X_valid.shape[1]))\n",
    "X_test = X_test.reshape((X_test.shape[0], 1, X_test.shape[1]))\n"
   ]
  },
  {
   "cell_type": "code",
   "execution_count": 14,
   "id": "ed14cf74",
   "metadata": {},
   "outputs": [
    {
     "data": {
      "text/plain": [
       "(6416, 1, 3)"
      ]
     },
     "execution_count": 14,
     "metadata": {},
     "output_type": "execute_result"
    }
   ],
   "source": [
    "X_train.shape"
   ]
  },
  {
   "cell_type": "code",
   "execution_count": 15,
   "id": "d7bc9f57",
   "metadata": {},
   "outputs": [
    {
     "data": {
      "text/plain": [
       "['myScaler/230703_data_2Tension_0703_2_LSTM_SS.pkl']"
      ]
     },
     "execution_count": 15,
     "metadata": {},
     "output_type": "execute_result"
    }
   ],
   "source": [
    "import pickle\n",
    "from joblib import dump, load\n",
    "\n",
    "file_name = 'myScaler/'+dataname+'_LSTM'+'_SS.pkl'\n",
    "dump(scaler, file_name)"
   ]
  },
  {
   "cell_type": "code",
   "execution_count": 16,
   "id": "4f8d8d8c",
   "metadata": {},
   "outputs": [],
   "source": [
    "from tensorflow import keras\n",
    "model = keras.models.Sequential([\n",
    "    keras.layers.LSTM(16, return_sequences=True, input_shape=(X_train.shape[1], X_train.shape[2])),\n",
    "    keras.layers.LSTM(16, return_sequences=True),\n",
    "    keras.layers.LSTM(16),\n",
    "    keras.layers.Dense(1)\n",
    "])\n",
    "\n",
    "model.compile(loss=\"mean_squared_error\", optimizer=keras.optimizers.RMSprop(learning_rate=1e-3, rho = 0.9))"
   ]
  },
  {
   "cell_type": "code",
   "execution_count": 17,
   "id": "d2204d0d",
   "metadata": {
    "scrolled": false
   },
   "outputs": [
    {
     "name": "stdout",
     "output_type": "stream",
     "text": [
      "Model: \"sequential\"\n",
      "_________________________________________________________________\n",
      " Layer (type)                Output Shape              Param #   \n",
      "=================================================================\n",
      " lstm (LSTM)                 (None, 1, 16)             1280      \n",
      "                                                                 \n",
      " lstm_1 (LSTM)               (None, 1, 16)             2112      \n",
      "                                                                 \n",
      " lstm_2 (LSTM)               (None, 16)                2112      \n",
      "                                                                 \n",
      " dense (Dense)               (None, 1)                 17        \n",
      "                                                                 \n",
      "=================================================================\n",
      "Total params: 5,521\n",
      "Trainable params: 5,521\n",
      "Non-trainable params: 0\n",
      "_________________________________________________________________\n"
     ]
    }
   ],
   "source": [
    "model.summary()"
   ]
  },
  {
   "cell_type": "markdown",
   "id": "0ca59749",
   "metadata": {},
   "source": [
    "## Callback (best, early stopping, tensorboard)"
   ]
  },
  {
   "cell_type": "code",
   "execution_count": 18,
   "id": "f4e30df0",
   "metadata": {},
   "outputs": [],
   "source": [
    "import os \n",
    "#root_logdir = os.path.join(os.curdir, 'mylog/'+data)\n",
    "root_logdir = os.path.join(os.curdir, 'mylog/'+'230703')\n",
    "\n",
    "def get_run_logdir():\n",
    "    import time\n",
    "    run_id= time.strftime(\"%m%d_%Hh%Mm%Ss\"+dataname)\n",
    "    return os.path.join(root_logdir, run_id)\n",
    "\n",
    "run_logdir = get_run_logdir()"
   ]
  },
  {
   "cell_type": "code",
   "execution_count": 19,
   "id": "3df612ec",
   "metadata": {},
   "outputs": [],
   "source": [
    "K = keras.backend\n",
    "class OneCycleScheduler(keras.callbacks.Callback):\n",
    "    def __init__(self, iterations, max_rate, start_rate=None,\n",
    "                 last_iterations=None, last_rate=None):\n",
    "        self.iterations = iterations\n",
    "        self.max_rate = max_rate\n",
    "        self.start_rate = start_rate or max_rate / 10\n",
    "        self.last_iterations = last_iterations or iterations // 10 + 1\n",
    "        self.half_iteration = (iterations - self.last_iterations) // 2\n",
    "        self.last_rate = last_rate or self.start_rate / 1000\n",
    "        self.iteration = 0\n",
    "    def _interpolate(self, iter1, iter2, rate1, rate2):\n",
    "        return ((rate2 - rate1) * (self.iteration - iter1)\n",
    "                / (iter2 - iter1) + rate1)\n",
    "    def on_batch_begin(self, batch, logs):\n",
    "        if self.iteration < self.half_iteration:\n",
    "            rate = self._interpolate(0, self.half_iteration, self.start_rate, self.max_rate)\n",
    "        elif self.iteration < 2 * self.half_iteration:\n",
    "            rate = self._interpolate(self.half_iteration, 2 * self.half_iteration,\n",
    "                                     self.max_rate, self.start_rate)\n",
    "        else:\n",
    "            rate = self._interpolate(2 * self.half_iteration, self.iterations,\n",
    "                                     self.start_rate, self.last_rate)\n",
    "        self.iteration += 1\n",
    "        K.set_value(self.model.optimizer.learning_rate, rate)"
   ]
  },
  {
   "cell_type": "code",
   "execution_count": 20,
   "id": "591586f2",
   "metadata": {},
   "outputs": [
    {
     "data": {
      "text/plain": [
       "'230703_data_2Tension_0703_2'"
      ]
     },
     "execution_count": 20,
     "metadata": {},
     "output_type": "execute_result"
    }
   ],
   "source": [
    "dataname"
   ]
  },
  {
   "cell_type": "code",
   "execution_count": 21,
   "id": "23dbe95b",
   "metadata": {
    "scrolled": true
   },
   "outputs": [
    {
     "name": "stdout",
     "output_type": "stream",
     "text": [
      "Epoch 1/1000\n",
      "  1/201 [..............................] - ETA: 19:27 - loss: 0.3246WARNING:tensorflow:Callback method `on_train_batch_end` is slow compared to the batch time (batch time: 0.0030s vs `on_train_batch_end` time: 0.0530s). Check your callbacks.\n",
      "201/201 [==============================] - 8s 12ms/step - loss: 0.0541 - val_loss: 0.0274\n",
      "Epoch 2/1000\n",
      "201/201 [==============================] - 1s 6ms/step - loss: 0.0253 - val_loss: 0.0258\n",
      "Epoch 3/1000\n",
      "201/201 [==============================] - 1s 6ms/step - loss: 0.0241 - val_loss: 0.0249\n",
      "Epoch 4/1000\n",
      "201/201 [==============================] - 1s 6ms/step - loss: 0.0237 - val_loss: 0.0216\n",
      "Epoch 5/1000\n",
      "201/201 [==============================] - 1s 6ms/step - loss: 0.0230 - val_loss: 0.0229\n",
      "Epoch 6/1000\n",
      "201/201 [==============================] - 1s 6ms/step - loss: 0.0229 - val_loss: 0.0221\n",
      "Epoch 7/1000\n",
      "201/201 [==============================] - 1s 6ms/step - loss: 0.0227 - val_loss: 0.0236\n",
      "Epoch 8/1000\n",
      "201/201 [==============================] - 1s 6ms/step - loss: 0.0225 - val_loss: 0.0213\n",
      "Epoch 9/1000\n",
      "201/201 [==============================] - 1s 6ms/step - loss: 0.0225 - val_loss: 0.0255\n",
      "Epoch 10/1000\n",
      "201/201 [==============================] - 1s 6ms/step - loss: 0.0225 - val_loss: 0.0228\n",
      "Epoch 11/1000\n",
      "201/201 [==============================] - 1s 6ms/step - loss: 0.0224 - val_loss: 0.0218\n",
      "Epoch 12/1000\n",
      "201/201 [==============================] - 1s 6ms/step - loss: 0.0222 - val_loss: 0.0236\n",
      "Epoch 13/1000\n",
      "201/201 [==============================] - 1s 5ms/step - loss: 0.0223 - val_loss: 0.0225\n",
      "Epoch 14/1000\n",
      "201/201 [==============================] - 1s 5ms/step - loss: 0.0222 - val_loss: 0.0225\n",
      "Epoch 15/1000\n",
      "201/201 [==============================] - 1s 5ms/step - loss: 0.0222 - val_loss: 0.0218\n",
      "Epoch 16/1000\n",
      "201/201 [==============================] - 1s 5ms/step - loss: 0.0223 - val_loss: 0.0225\n",
      "Epoch 17/1000\n",
      "201/201 [==============================] - 1s 6ms/step - loss: 0.0222 - val_loss: 0.0220\n",
      "Epoch 18/1000\n",
      "201/201 [==============================] - 1s 6ms/step - loss: 0.0220 - val_loss: 0.0257\n",
      "3/3 [==============================] - 0s 3ms/step - loss: 0.0195\n",
      "1/1 [==============================] - 1s 1s/step\n"
     ]
    }
   ],
   "source": [
    "tensorboard_cb = keras.callbacks.TensorBoard(run_logdir)\n",
    "early_stopping_cb = keras.callbacks.EarlyStopping(patience = 10, restore_best_weights = True)\n",
    "n_epochs = 1000\n",
    "batch_size = 1\n",
    "onecycle = OneCycleScheduler(math.ceil(len(X_train) / batch_size) * n_epochs, max_rate=0.05)\n",
    "history = model.fit(X_train, y_train, epochs=n_epochs,\n",
    "                    validation_data=(X_valid, y_valid),\n",
    "                    callbacks=[onecycle,early_stopping_cb,tensorboard_cb])\n",
    "mse_test = model.evaluate(X_test, y_test)\n",
    "X_new = X_test[:5]\n",
    "y_pred = model.predict(X_new)"
   ]
  },
  {
   "cell_type": "code",
   "execution_count": 22,
   "id": "a694a613",
   "metadata": {
    "scrolled": false
   },
   "outputs": [
    {
     "data": {
      "text/plain": [
       "Reusing TensorBoard on port 9360 (pid 25652), started 0:26:48 ago. (Use '!kill 25652' to kill it.)"
      ]
     },
     "metadata": {},
     "output_type": "display_data"
    },
    {
     "data": {
      "text/html": [
       "\n",
       "      <iframe id=\"tensorboard-frame-790de6910d3817a4\" width=\"100%\" height=\"800\" frameborder=\"0\">\n",
       "      </iframe>\n",
       "      <script>\n",
       "        (function() {\n",
       "          const frame = document.getElementById(\"tensorboard-frame-790de6910d3817a4\");\n",
       "          const url = new URL(\"/\", window.location);\n",
       "          const port = 9360;\n",
       "          if (port) {\n",
       "            url.port = port;\n",
       "          }\n",
       "          frame.src = url;\n",
       "        })();\n",
       "      </script>\n",
       "    "
      ],
      "text/plain": [
       "<IPython.core.display.HTML object>"
      ]
     },
     "metadata": {},
     "output_type": "display_data"
    }
   ],
   "source": [
    "%load_ext tensorboard\n",
    "%tensorboard --logdir=./mylog/230703 --port=9360"
   ]
  },
  {
   "cell_type": "code",
   "execution_count": 23,
   "id": "1a48e36b",
   "metadata": {
    "scrolled": true
   },
   "outputs": [],
   "source": [
    "model.save('H:/Jupyter_project/wearableActuator/myModel/'+dataname+'_LSTM'+'.h5')"
   ]
  },
  {
   "cell_type": "code",
   "execution_count": 24,
   "id": "68e5afdd",
   "metadata": {},
   "outputs": [
    {
     "name": "stdout",
     "output_type": "stream",
     "text": [
      "51/51 [==============================] - 1s 2ms/step\n"
     ]
    }
   ],
   "source": [
    "model = tf.keras.models.load_model('myModel/'+dataname+'_LSTM'+'.h5')\n",
    "scaler = load(file_name)\n",
    "valid_predictions = model.predict(X_valid)"
   ]
  },
  {
   "cell_type": "code",
   "execution_count": 25,
   "id": "9513de33",
   "metadata": {
    "scrolled": true
   },
   "outputs": [
    {
     "data": {
      "text/plain": [
       "array([[[-1.48360994, -1.48320576,  0.72305621]],\n",
       "\n",
       "       [[-0.17637992, -0.17654437, -0.07089352]],\n",
       "\n",
       "       [[-1.20513915, -1.20489035, -0.03739353]],\n",
       "\n",
       "       ...,\n",
       "\n",
       "       [[ 0.10636846,  0.10593017,  0.70630622]],\n",
       "\n",
       "       [[-0.18664612, -0.18694221, -0.17139348]],\n",
       "\n",
       "       [[ 0.68897556,  0.68820898,  1.65100589]]])"
      ]
     },
     "execution_count": 25,
     "metadata": {},
     "output_type": "execute_result"
    }
   ],
   "source": [
    "X_valid"
   ]
  },
  {
   "cell_type": "code",
   "execution_count": 26,
   "id": "123bfdfd",
   "metadata": {},
   "outputs": [
    {
     "data": {
      "text/plain": [
       "array([[ 0.45367151],\n",
       "       [-0.01500165],\n",
       "       [ 0.0441673 ],\n",
       "       ...,\n",
       "       [ 0.3696944 ],\n",
       "       [-0.06217124],\n",
       "       [ 0.9111729 ]], dtype=float32)"
      ]
     },
     "execution_count": 26,
     "metadata": {},
     "output_type": "execute_result"
    }
   ],
   "source": [
    "valid_predictions"
   ]
  },
  {
   "cell_type": "code",
   "execution_count": 27,
   "id": "79486772",
   "metadata": {},
   "outputs": [
    {
     "data": {
      "text/plain": [
       "array([[-0.51815897, -0.51828658,  0.02625645]])"
      ]
     },
     "execution_count": 27,
     "metadata": {},
     "output_type": "execute_result"
    }
   ],
   "source": [
    "X_test[0]"
   ]
  },
  {
   "cell_type": "code",
   "execution_count": 28,
   "id": "2507a3eb",
   "metadata": {},
   "outputs": [
    {
     "data": {
      "text/plain": [
       "array([[[-0.51815897, -0.51828658,  0.02625645]]])"
      ]
     },
     "execution_count": 28,
     "metadata": {},
     "output_type": "execute_result"
    }
   ],
   "source": [
    "arr = X_test\n",
    "X_test0 = arr[:1]\n",
    "X_test0"
   ]
  },
  {
   "cell_type": "code",
   "execution_count": 29,
   "id": "a511dac7",
   "metadata": {
    "scrolled": false
   },
   "outputs": [
    {
     "data": {
      "text/html": [
       "<div>\n",
       "<style scoped>\n",
       "    .dataframe tbody tr th:only-of-type {\n",
       "        vertical-align: middle;\n",
       "    }\n",
       "\n",
       "    .dataframe tbody tr th {\n",
       "        vertical-align: top;\n",
       "    }\n",
       "\n",
       "    .dataframe thead th {\n",
       "        text-align: right;\n",
       "    }\n",
       "</style>\n",
       "<table border=\"1\" class=\"dataframe\">\n",
       "  <thead>\n",
       "    <tr style=\"text-align: right;\">\n",
       "      <th></th>\n",
       "      <th>Tension</th>\n",
       "    </tr>\n",
       "  </thead>\n",
       "  <tbody>\n",
       "    <tr>\n",
       "      <th>0</th>\n",
       "      <td>0.453672</td>\n",
       "    </tr>\n",
       "    <tr>\n",
       "      <th>1</th>\n",
       "      <td>-0.015002</td>\n",
       "    </tr>\n",
       "    <tr>\n",
       "      <th>2</th>\n",
       "      <td>0.044167</td>\n",
       "    </tr>\n",
       "    <tr>\n",
       "      <th>3</th>\n",
       "      <td>-0.469032</td>\n",
       "    </tr>\n",
       "    <tr>\n",
       "      <th>4</th>\n",
       "      <td>0.131737</td>\n",
       "    </tr>\n",
       "    <tr>\n",
       "      <th>...</th>\n",
       "      <td>...</td>\n",
       "    </tr>\n",
       "    <tr>\n",
       "      <th>1600</th>\n",
       "      <td>0.425406</td>\n",
       "    </tr>\n",
       "    <tr>\n",
       "      <th>1601</th>\n",
       "      <td>-0.798542</td>\n",
       "    </tr>\n",
       "    <tr>\n",
       "      <th>1602</th>\n",
       "      <td>0.369694</td>\n",
       "    </tr>\n",
       "    <tr>\n",
       "      <th>1603</th>\n",
       "      <td>-0.062171</td>\n",
       "    </tr>\n",
       "    <tr>\n",
       "      <th>1604</th>\n",
       "      <td>0.911173</td>\n",
       "    </tr>\n",
       "  </tbody>\n",
       "</table>\n",
       "<p>1605 rows × 1 columns</p>\n",
       "</div>"
      ],
      "text/plain": [
       "       Tension\n",
       "0     0.453672\n",
       "1    -0.015002\n",
       "2     0.044167\n",
       "3    -0.469032\n",
       "4     0.131737\n",
       "...        ...\n",
       "1600  0.425406\n",
       "1601 -0.798542\n",
       "1602  0.369694\n",
       "1603 -0.062171\n",
       "1604  0.911173\n",
       "\n",
       "[1605 rows x 1 columns]"
      ]
     },
     "execution_count": 29,
     "metadata": {},
     "output_type": "execute_result"
    }
   ],
   "source": [
    "valid_predictions_df=pd.DataFrame(valid_predictions)\n",
    "valid_predictions_df.columns = [\"Tension\"]\n",
    "valid_predictions_df"
   ]
  },
  {
   "cell_type": "code",
   "execution_count": 30,
   "id": "856719f8",
   "metadata": {
    "scrolled": false
   },
   "outputs": [
    {
     "data": {
      "text/html": [
       "<div>\n",
       "<style scoped>\n",
       "    .dataframe tbody tr th:only-of-type {\n",
       "        vertical-align: middle;\n",
       "    }\n",
       "\n",
       "    .dataframe tbody tr th {\n",
       "        vertical-align: top;\n",
       "    }\n",
       "\n",
       "    .dataframe thead th {\n",
       "        text-align: right;\n",
       "    }\n",
       "</style>\n",
       "<table border=\"1\" class=\"dataframe\">\n",
       "  <thead>\n",
       "    <tr style=\"text-align: right;\">\n",
       "      <th></th>\n",
       "      <th>Valid_Tension</th>\n",
       "    </tr>\n",
       "  </thead>\n",
       "  <tbody>\n",
       "    <tr>\n",
       "      <th>0</th>\n",
       "      <td>0.552806</td>\n",
       "    </tr>\n",
       "    <tr>\n",
       "      <th>1</th>\n",
       "      <td>0.169011</td>\n",
       "    </tr>\n",
       "    <tr>\n",
       "      <th>2</th>\n",
       "      <td>-0.180670</td>\n",
       "    </tr>\n",
       "    <tr>\n",
       "      <th>3</th>\n",
       "      <td>-0.636960</td>\n",
       "    </tr>\n",
       "    <tr>\n",
       "      <th>4</th>\n",
       "      <td>0.318264</td>\n",
       "    </tr>\n",
       "    <tr>\n",
       "      <th>...</th>\n",
       "      <td>...</td>\n",
       "    </tr>\n",
       "    <tr>\n",
       "      <th>1600</th>\n",
       "      <td>0.582657</td>\n",
       "    </tr>\n",
       "    <tr>\n",
       "      <th>1601</th>\n",
       "      <td>-0.709454</td>\n",
       "    </tr>\n",
       "    <tr>\n",
       "      <th>1602</th>\n",
       "      <td>0.190333</td>\n",
       "    </tr>\n",
       "    <tr>\n",
       "      <th>1603</th>\n",
       "      <td>0.117838</td>\n",
       "    </tr>\n",
       "    <tr>\n",
       "      <th>1604</th>\n",
       "      <td>0.962188</td>\n",
       "    </tr>\n",
       "  </tbody>\n",
       "</table>\n",
       "<p>1605 rows × 1 columns</p>\n",
       "</div>"
      ],
      "text/plain": [
       "      Valid_Tension\n",
       "0          0.552806\n",
       "1          0.169011\n",
       "2         -0.180670\n",
       "3         -0.636960\n",
       "4          0.318264\n",
       "...             ...\n",
       "1600       0.582657\n",
       "1601      -0.709454\n",
       "1602       0.190333\n",
       "1603       0.117838\n",
       "1604       0.962188\n",
       "\n",
       "[1605 rows x 1 columns]"
      ]
     },
     "execution_count": 30,
     "metadata": {},
     "output_type": "execute_result"
    }
   ],
   "source": [
    "k= y_valid.to_numpy()\n",
    "k_df = pd.DataFrame(k)\n",
    "k_df.columns  = [\"Valid_Tension\"]\n",
    "k_df"
   ]
  },
  {
   "cell_type": "code",
   "execution_count": 31,
   "id": "8491fba8",
   "metadata": {
    "scrolled": true
   },
   "outputs": [
    {
     "data": {
      "text/html": [
       "<div>\n",
       "<style scoped>\n",
       "    .dataframe tbody tr th:only-of-type {\n",
       "        vertical-align: middle;\n",
       "    }\n",
       "\n",
       "    .dataframe tbody tr th {\n",
       "        vertical-align: top;\n",
       "    }\n",
       "\n",
       "    .dataframe thead th {\n",
       "        text-align: right;\n",
       "    }\n",
       "</style>\n",
       "<table border=\"1\" class=\"dataframe\">\n",
       "  <thead>\n",
       "    <tr style=\"text-align: right;\">\n",
       "      <th></th>\n",
       "      <th>Valid_Tension</th>\n",
       "    </tr>\n",
       "  </thead>\n",
       "  <tbody>\n",
       "    <tr>\n",
       "      <th>count</th>\n",
       "      <td>1605.000000</td>\n",
       "    </tr>\n",
       "    <tr>\n",
       "      <th>mean</th>\n",
       "      <td>-0.008928</td>\n",
       "    </tr>\n",
       "    <tr>\n",
       "      <th>std</th>\n",
       "      <td>0.569985</td>\n",
       "    </tr>\n",
       "    <tr>\n",
       "      <th>min</th>\n",
       "      <td>-1.003697</td>\n",
       "    </tr>\n",
       "    <tr>\n",
       "      <th>25%</th>\n",
       "      <td>-0.491970</td>\n",
       "    </tr>\n",
       "    <tr>\n",
       "      <th>50%</th>\n",
       "      <td>0.015492</td>\n",
       "    </tr>\n",
       "    <tr>\n",
       "      <th>75%</th>\n",
       "      <td>0.467518</td>\n",
       "    </tr>\n",
       "    <tr>\n",
       "      <th>max</th>\n",
       "      <td>0.996303</td>\n",
       "    </tr>\n",
       "  </tbody>\n",
       "</table>\n",
       "</div>"
      ],
      "text/plain": [
       "       Valid_Tension\n",
       "count    1605.000000\n",
       "mean       -0.008928\n",
       "std         0.569985\n",
       "min        -1.003697\n",
       "25%        -0.491970\n",
       "50%         0.015492\n",
       "75%         0.467518\n",
       "max         0.996303"
      ]
     },
     "execution_count": 31,
     "metadata": {},
     "output_type": "execute_result"
    }
   ],
   "source": [
    "k_df.describe()"
   ]
  },
  {
   "cell_type": "code",
   "execution_count": 32,
   "id": "77459531",
   "metadata": {
    "scrolled": true
   },
   "outputs": [
    {
     "name": "stdout",
     "output_type": "stream",
     "text": [
      "corr\n",
      "96.69% Valid_Tension\n"
     ]
    },
    {
     "data": {
      "text/html": [
       "<div>\n",
       "<style scoped>\n",
       "    .dataframe tbody tr th:only-of-type {\n",
       "        vertical-align: middle;\n",
       "    }\n",
       "\n",
       "    .dataframe tbody tr th {\n",
       "        vertical-align: top;\n",
       "    }\n",
       "\n",
       "    .dataframe thead th {\n",
       "        text-align: right;\n",
       "    }\n",
       "</style>\n",
       "<table border=\"1\" class=\"dataframe\">\n",
       "  <thead>\n",
       "    <tr style=\"text-align: right;\">\n",
       "      <th></th>\n",
       "      <th>Valid_Tension</th>\n",
       "      <th>Tension</th>\n",
       "    </tr>\n",
       "  </thead>\n",
       "  <tbody>\n",
       "    <tr>\n",
       "      <th>Valid_Tension</th>\n",
       "      <td>1.000000</td>\n",
       "      <td>0.966851</td>\n",
       "    </tr>\n",
       "    <tr>\n",
       "      <th>Tension</th>\n",
       "      <td>0.966851</td>\n",
       "      <td>1.000000</td>\n",
       "    </tr>\n",
       "  </tbody>\n",
       "</table>\n",
       "</div>"
      ],
      "text/plain": [
       "               Valid_Tension   Tension\n",
       "Valid_Tension       1.000000  0.966851\n",
       "Tension             0.966851  1.000000"
      ]
     },
     "execution_count": 32,
     "metadata": {},
     "output_type": "execute_result"
    }
   ],
   "source": [
    "ValidPre = pd.concat( [k_df,valid_predictions_df],axis=1)\n",
    "ValidPre.head(5)\n",
    "corr = ValidPre.corr()\n",
    "print(\"corr\")\n",
    "for i in range(0,1):    \n",
    "    print(format(corr[valid_predictions_df.columns[i]][k_df.columns[i]]*100,'.2f')+'%',k_df.columns[i])\n",
    "corr"
   ]
  },
  {
   "cell_type": "code",
   "execution_count": 33,
   "id": "ac3c9b02",
   "metadata": {
    "scrolled": false
   },
   "outputs": [
    {
     "data": {
      "image/png": "[encoded data removed]",
      "text/plain": [
       "<Figure size 640x480 with 1 Axes>"
      ]
     },
     "metadata": {},
     "output_type": "display_data"
    }
   ],
   "source": [
    "alpa=0.1\n",
    "\n",
    "ValidPre.plot(kind=\"scatter\", x= \"Valid_Tension\",y= \"Tension\",alpha = alpa)\n",
    "plt.savefig('H:/Jupyter_project/wearableActuator/savefig/'+dataname+'.png')\n"
   ]
  },
  {
   "cell_type": "code",
   "execution_count": null,
   "id": "423f3ee4",
   "metadata": {},
   "outputs": [],
   "source": []
  }
 ],
 "metadata": {
  "kernelspec": {
   "display_name": "Python 3 (ipykernel)",
   "language": "python",
   "name": "python3"
  },
  "language_info": {
   "codemirror_mode": {
    "name": "ipython",
    "version": 3
   },
   "file_extension": ".py",
   "mimetype": "text/x-python",
   "name": "python",
   "nbconvert_exporter": "python",
   "pygments_lexer": "ipython3",
   "version": "3.10.9"
  }
 },
 "nbformat": 4,
 "nbformat_minor": 5
}
